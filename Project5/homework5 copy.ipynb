{
  "cells": [
    {
      "cell_type": "markdown",
      "metadata": {
        "colab_type": "text",
        "id": "view-in-github"
      },
      "source": [
        "<a href=\"https://colab.research.google.com/github/michaeljf00/projects_in_ml_and_ai/blob/main/homework5.ipynb\" target=\"_parent\"><img src=\"https://colab.research.google.com/assets/colab-badge.svg\" alt=\"Open In Colab\"/></a>"
      ]
    },
    {
      "cell_type": "markdown",
      "metadata": {
        "id": "3vMGYEyNVbjK"
      },
      "source": [
        "**Homework 5: CNNs, AEs, GANs-**\n",
        "\n",
        "In your project, you will pick an image dataset to solve a classification task. Provide a link to\n",
        "your dataset."
      ]
    },
    {
      "cell_type": "markdown",
      "metadata": {
        "id": "1fE0PWfrZqyi"
      },
      "source": [
        "**Task 1 (70 points)**:"
      ]
    },
    {
      "cell_type": "markdown",
      "metadata": {
        "id": "QgKw0sRkZ5It"
      },
      "source": [
        "**Part 1 (20 points)**: This step involves downloading, preparing, and visualizing your\n",
        "dataset. Create a convolutional base using a common pattern: a stack of Conv and\n",
        "MaxPooling layers. Depending on the problem and the dataset you must decide what\n",
        "pattern you want to use (i.e., how many Conv layers and how many pooling layers).\n",
        "Please describe why you chose a particular pattern. Add the final dense layer(s).\n",
        "Compile and train the model. Report the final evaluation and describe the metrics."
      ]
    },
    {
      "cell_type": "code",
      "execution_count": 49,
      "metadata": {
        "id": "yohWid-_PX_d"
      },
      "outputs": [],
      "source": [
        "import numpy as np\n",
        "import pandas as pd\n",
        "import tensorflow as tf\n",
        "from matplotlib import pyplot as plt, image as img\n",
        "from pathlib import Path\n",
        "from os import makedirs\n",
        "import shutil"
      ]
    },
    {
      "cell_type": "code",
      "execution_count": 50,
      "metadata": {
        "id": "IxrhXV-U3IWr"
      },
      "outputs": [],
      "source": [
        "batchSize = 32\n",
        "imgSize = (128, 128)\n",
        "SEED = 4906"
      ]
    },
    {
      "cell_type": "markdown",
      "metadata": {
        "id": "UTPw9L69QjYi"
      },
      "source": [
        "Link to dataset: https://www.kaggle.com/vishalsubbiah/pokemon-images-and-types"
      ]
    },
    {
      "cell_type": "code",
      "execution_count": 51,
      "metadata": {
        "id": "EhixwcObtokm"
      },
      "outputs": [],
      "source": [
        "df = pd.read_csv(\"Projects_ML_AI/Project5/pokemon.csv\", encoding=\"utf-8\")"
      ]
    },
    {
      "cell_type": "code",
      "execution_count": 52,
      "metadata": {
        "colab": {
          "base_uri": "https://localhost:8080/",
          "height": 206
        },
        "id": "MmOFsoZ0yJym",
        "outputId": "f552f55f-cfbe-4eb5-e3bb-c79478ddc99e"
      },
      "outputs": [
        {
          "data": {
            "text/html": [
              "<div>\n",
              "<style scoped>\n",
              "    .dataframe tbody tr th:only-of-type {\n",
              "        vertical-align: middle;\n",
              "    }\n",
              "\n",
              "    .dataframe tbody tr th {\n",
              "        vertical-align: top;\n",
              "    }\n",
              "\n",
              "    .dataframe thead th {\n",
              "        text-align: right;\n",
              "    }\n",
              "</style>\n",
              "<table border=\"1\" class=\"dataframe\">\n",
              "  <thead>\n",
              "    <tr style=\"text-align: right;\">\n",
              "      <th></th>\n",
              "      <th>Name</th>\n",
              "      <th>Type1</th>\n",
              "      <th>Type2</th>\n",
              "      <th>Evolution</th>\n",
              "    </tr>\n",
              "  </thead>\n",
              "  <tbody>\n",
              "    <tr>\n",
              "      <th>0</th>\n",
              "      <td>bulbasaur</td>\n",
              "      <td>Grass</td>\n",
              "      <td>Poison</td>\n",
              "      <td>ivysaur</td>\n",
              "    </tr>\n",
              "    <tr>\n",
              "      <th>1</th>\n",
              "      <td>ivysaur</td>\n",
              "      <td>Grass</td>\n",
              "      <td>Poison</td>\n",
              "      <td>venusaur</td>\n",
              "    </tr>\n",
              "    <tr>\n",
              "      <th>2</th>\n",
              "      <td>venusaur</td>\n",
              "      <td>Grass</td>\n",
              "      <td>Poison</td>\n",
              "      <td>NaN</td>\n",
              "    </tr>\n",
              "    <tr>\n",
              "      <th>3</th>\n",
              "      <td>charmander</td>\n",
              "      <td>Fire</td>\n",
              "      <td>NaN</td>\n",
              "      <td>charmeleon</td>\n",
              "    </tr>\n",
              "    <tr>\n",
              "      <th>4</th>\n",
              "      <td>charmeleon</td>\n",
              "      <td>Fire</td>\n",
              "      <td>NaN</td>\n",
              "      <td>charizard</td>\n",
              "    </tr>\n",
              "  </tbody>\n",
              "</table>\n",
              "</div>"
            ],
            "text/plain": [
              "         Name  Type1   Type2   Evolution\n",
              "0   bulbasaur  Grass  Poison     ivysaur\n",
              "1     ivysaur  Grass  Poison    venusaur\n",
              "2    venusaur  Grass  Poison         NaN\n",
              "3  charmander   Fire     NaN  charmeleon\n",
              "4  charmeleon   Fire     NaN   charizard"
            ]
          },
          "execution_count": 52,
          "metadata": {},
          "output_type": "execute_result"
        }
      ],
      "source": [
        "df.head()"
      ]
    },
    {
      "cell_type": "code",
      "execution_count": 53,
      "metadata": {
        "colab": {
          "base_uri": "https://localhost:8080/"
        },
        "id": "yfktGkf-zJRt",
        "outputId": "752c0280-8981-4d78-a32b-12fd96de38f1"
      },
      "outputs": [
        {
          "data": {
            "text/plain": [
              "(809, 4)"
            ]
          },
          "execution_count": 53,
          "metadata": {},
          "output_type": "execute_result"
        }
      ],
      "source": [
        "df.shape"
      ]
    },
    {
      "cell_type": "markdown",
      "metadata": {
        "id": "2R4rjClOSVXD"
      },
      "source": [
        "There are 809 rows with three columns of information for each row."
      ]
    },
    {
      "cell_type": "markdown",
      "metadata": {
        "id": "lreIFxIbRDeg"
      },
      "source": [
        "To make the classification process easier, we will remove the second typing of the pokemon and use their main type (type1) as the target value."
      ]
    },
    {
      "cell_type": "code",
      "execution_count": 54,
      "metadata": {
        "colab": {
          "base_uri": "https://localhost:8080/",
          "height": 206
        },
        "id": "j70YZ6Giy70R",
        "outputId": "0b885690-343d-40da-f8eb-518eb80dc6cc"
      },
      "outputs": [
        {
          "data": {
            "text/html": [
              "<div>\n",
              "<style scoped>\n",
              "    .dataframe tbody tr th:only-of-type {\n",
              "        vertical-align: middle;\n",
              "    }\n",
              "\n",
              "    .dataframe tbody tr th {\n",
              "        vertical-align: top;\n",
              "    }\n",
              "\n",
              "    .dataframe thead th {\n",
              "        text-align: right;\n",
              "    }\n",
              "</style>\n",
              "<table border=\"1\" class=\"dataframe\">\n",
              "  <thead>\n",
              "    <tr style=\"text-align: right;\">\n",
              "      <th></th>\n",
              "      <th>Name</th>\n",
              "      <th>Type1</th>\n",
              "      <th>Evolution</th>\n",
              "    </tr>\n",
              "  </thead>\n",
              "  <tbody>\n",
              "    <tr>\n",
              "      <th>0</th>\n",
              "      <td>bulbasaur</td>\n",
              "      <td>Grass</td>\n",
              "      <td>ivysaur</td>\n",
              "    </tr>\n",
              "    <tr>\n",
              "      <th>1</th>\n",
              "      <td>ivysaur</td>\n",
              "      <td>Grass</td>\n",
              "      <td>venusaur</td>\n",
              "    </tr>\n",
              "    <tr>\n",
              "      <th>2</th>\n",
              "      <td>venusaur</td>\n",
              "      <td>Grass</td>\n",
              "      <td>NaN</td>\n",
              "    </tr>\n",
              "    <tr>\n",
              "      <th>3</th>\n",
              "      <td>charmander</td>\n",
              "      <td>Fire</td>\n",
              "      <td>charmeleon</td>\n",
              "    </tr>\n",
              "    <tr>\n",
              "      <th>4</th>\n",
              "      <td>charmeleon</td>\n",
              "      <td>Fire</td>\n",
              "      <td>charizard</td>\n",
              "    </tr>\n",
              "  </tbody>\n",
              "</table>\n",
              "</div>"
            ],
            "text/plain": [
              "         Name  Type1   Evolution\n",
              "0   bulbasaur  Grass     ivysaur\n",
              "1     ivysaur  Grass    venusaur\n",
              "2    venusaur  Grass         NaN\n",
              "3  charmander   Fire  charmeleon\n",
              "4  charmeleon   Fire   charizard"
            ]
          },
          "execution_count": 54,
          "metadata": {},
          "output_type": "execute_result"
        }
      ],
      "source": [
        "df = df.drop('Type2', axis=1)\n",
        "df.head()"
      ]
    },
    {
      "cell_type": "code",
      "execution_count": 55,
      "metadata": {
        "colab": {
          "base_uri": "https://localhost:8080/"
        },
        "id": "WPxGNog7yUPI",
        "outputId": "f57d2b7c-78e8-4078-b650-349a528ed613"
      },
      "outputs": [
        {
          "data": {
            "text/plain": [
              "809"
            ]
          },
          "execution_count": 55,
          "metadata": {},
          "output_type": "execute_result"
        }
      ],
      "source": [
        "len(df)"
      ]
    },
    {
      "cell_type": "markdown",
      "metadata": {
        "id": "EYXMk352SiC_"
      },
      "source": []
    },
    {
      "cell_type": "code",
      "execution_count": 56,
      "metadata": {
        "colab": {
          "base_uri": "https://localhost:8080/"
        },
        "id": "16nxjSdwXv5v",
        "outputId": "908625e1-f54a-44f3-e8c2-a726dd8b35d1"
      },
      "outputs": [
        {
          "data": {
            "text/plain": [
              "18"
            ]
          },
          "execution_count": 56,
          "metadata": {},
          "output_type": "execute_result"
        }
      ],
      "source": [
        "len(df.groupby('Type1').count())"
      ]
    },
    {
      "cell_type": "code",
      "execution_count": 43,
      "metadata": {
        "colab": {
          "base_uri": "https://localhost:8080/"
        },
        "id": "X_EjZtE3zh5n",
        "outputId": "dccbfedd-6f1f-48ac-de75-f7f0ef0bb0e2"
      },
      "outputs": [
        {
          "data": {
            "text/plain": [
              "Type1\n",
              "Water       114\n",
              "Normal      105\n",
              "Grass        78\n",
              "Bug          72\n",
              "Psychic      53\n",
              "Fire         53\n",
              "Rock         46\n",
              "Electric     40\n",
              "Poison       34\n",
              "Ground       32\n",
              "Fighting     29\n",
              "Dark         29\n",
              "Dragon       27\n",
              "Ghost        27\n",
              "Steel        26\n",
              "Ice          23\n",
              "Fairy        18\n",
              "Flying        3\n",
              "dtype: int64"
            ]
          },
          "execution_count": 43,
          "metadata": {},
          "output_type": "execute_result"
        }
      ],
      "source": [
        "df.value_counts(\"Type1\")"
      ]
    },
    {
      "cell_type": "code",
      "execution_count": 57,
      "metadata": {
        "colab": {
          "base_uri": "https://localhost:8080/"
        },
        "id": "BQHTqVzL8qvp",
        "outputId": "f4c8e64a-7cfc-4599-e6ac-84d70bd843b0"
      },
      "outputs": [
        {
          "data": {
            "text/plain": [
              "{'.ipynb_checkpo': PosixPath('Projects_ML_AI/Project5/images/.ipynb_checkpoints')}"
            ]
          },
          "execution_count": 57,
          "metadata": {},
          "output_type": "execute_result"
        }
      ],
      "source": [
        "images = list(Path(\"Projects_ML_AI/Project5/images\").glob('*'))\n",
        "labelledImages = {image.name[:-4]: image for image in images}\n",
        "labelledImages"
      ]
    },
    {
      "cell_type": "markdown",
      "metadata": {
        "id": "U0Ef0AjcTCHA"
      },
      "source": [
        "With names of the pokemon parsed out of the dataset, we can the create the appropriate folders for each type and categorize each pokemon in their proper folder."
      ]
    },
    {
      "cell_type": "code",
      "execution_count": 58,
      "metadata": {
        "id": "98TppHN97NAT"
      },
      "outputs": [],
      "source": [
        "!mkdir -p pokemon"
      ]
    },
    {
      "cell_type": "code",
      "execution_count": 60,
      "metadata": {
        "id": "wPDZyqLX1dqQ"
      },
      "outputs": [
        {
          "ename": "KeyError",
          "evalue": "'bulbasaur'",
          "output_type": "error",
          "traceback": [
            "\u001b[0;31m---------------------------------------------------------------------------\u001b[0m",
            "\u001b[0;31mKeyError\u001b[0m                                  Traceback (most recent call last)",
            "\u001b[0;32m<ipython-input-60-c3a7c9908752>\u001b[0m in \u001b[0;36m<module>\u001b[0;34m\u001b[0m\n\u001b[1;32m      2\u001b[0m   \u001b[0mnew_dir\u001b[0m \u001b[0;34m=\u001b[0m \u001b[0;34mf'./pokemon/{pokemonType}'\u001b[0m\u001b[0;34m\u001b[0m\u001b[0;34m\u001b[0m\u001b[0m\n\u001b[1;32m      3\u001b[0m   \u001b[0mmakedirs\u001b[0m\u001b[0;34m(\u001b[0m\u001b[0mnew_dir\u001b[0m\u001b[0;34m,\u001b[0m \u001b[0mexist_ok\u001b[0m\u001b[0;34m=\u001b[0m\u001b[0;32mTrue\u001b[0m\u001b[0;34m)\u001b[0m\u001b[0;34m\u001b[0m\u001b[0;34m\u001b[0m\u001b[0m\n\u001b[0;32m----> 4\u001b[0;31m   \u001b[0mfiles\u001b[0m \u001b[0;34m=\u001b[0m \u001b[0;34m[\u001b[0m\u001b[0mlabelledImages\u001b[0m\u001b[0;34m[\u001b[0m\u001b[0mname\u001b[0m\u001b[0;34m]\u001b[0m \u001b[0;32mfor\u001b[0m \u001b[0mname\u001b[0m \u001b[0;32min\u001b[0m \u001b[0mdf\u001b[0m\u001b[0;34m[\u001b[0m\u001b[0mdf\u001b[0m\u001b[0;34m[\u001b[0m\u001b[0;34m'Type1'\u001b[0m\u001b[0;34m]\u001b[0m \u001b[0;34m==\u001b[0m \u001b[0mpokemonType\u001b[0m\u001b[0;34m]\u001b[0m\u001b[0;34m[\u001b[0m\u001b[0;34m'Name'\u001b[0m\u001b[0;34m]\u001b[0m\u001b[0;34m]\u001b[0m\u001b[0;34m\u001b[0m\u001b[0;34m\u001b[0m\u001b[0m\n\u001b[0m\u001b[1;32m      5\u001b[0m   \u001b[0;32mfor\u001b[0m \u001b[0mf\u001b[0m \u001b[0;32min\u001b[0m \u001b[0mfiles\u001b[0m\u001b[0;34m:\u001b[0m\u001b[0;34m\u001b[0m\u001b[0;34m\u001b[0m\u001b[0m\n\u001b[1;32m      6\u001b[0m     \u001b[0moutput\u001b[0m \u001b[0;34m=\u001b[0m \u001b[0mPath\u001b[0m\u001b[0;34m(\u001b[0m\u001b[0;34mf'{new_dir}/{f.name}.png'\u001b[0m\u001b[0;34m)\u001b[0m\u001b[0;34m\u001b[0m\u001b[0;34m\u001b[0m\u001b[0m\n",
            "\u001b[0;32m<ipython-input-60-c3a7c9908752>\u001b[0m in \u001b[0;36m<listcomp>\u001b[0;34m(.0)\u001b[0m\n\u001b[1;32m      2\u001b[0m   \u001b[0mnew_dir\u001b[0m \u001b[0;34m=\u001b[0m \u001b[0;34mf'./pokemon/{pokemonType}'\u001b[0m\u001b[0;34m\u001b[0m\u001b[0;34m\u001b[0m\u001b[0m\n\u001b[1;32m      3\u001b[0m   \u001b[0mmakedirs\u001b[0m\u001b[0;34m(\u001b[0m\u001b[0mnew_dir\u001b[0m\u001b[0;34m,\u001b[0m \u001b[0mexist_ok\u001b[0m\u001b[0;34m=\u001b[0m\u001b[0;32mTrue\u001b[0m\u001b[0;34m)\u001b[0m\u001b[0;34m\u001b[0m\u001b[0;34m\u001b[0m\u001b[0m\n\u001b[0;32m----> 4\u001b[0;31m   \u001b[0mfiles\u001b[0m \u001b[0;34m=\u001b[0m \u001b[0;34m[\u001b[0m\u001b[0mlabelledImages\u001b[0m\u001b[0;34m[\u001b[0m\u001b[0mname\u001b[0m\u001b[0;34m]\u001b[0m \u001b[0;32mfor\u001b[0m \u001b[0mname\u001b[0m \u001b[0;32min\u001b[0m \u001b[0mdf\u001b[0m\u001b[0;34m[\u001b[0m\u001b[0mdf\u001b[0m\u001b[0;34m[\u001b[0m\u001b[0;34m'Type1'\u001b[0m\u001b[0;34m]\u001b[0m \u001b[0;34m==\u001b[0m \u001b[0mpokemonType\u001b[0m\u001b[0;34m]\u001b[0m\u001b[0;34m[\u001b[0m\u001b[0;34m'Name'\u001b[0m\u001b[0;34m]\u001b[0m\u001b[0;34m]\u001b[0m\u001b[0;34m\u001b[0m\u001b[0;34m\u001b[0m\u001b[0m\n\u001b[0m\u001b[1;32m      5\u001b[0m   \u001b[0;32mfor\u001b[0m \u001b[0mf\u001b[0m \u001b[0;32min\u001b[0m \u001b[0mfiles\u001b[0m\u001b[0;34m:\u001b[0m\u001b[0;34m\u001b[0m\u001b[0;34m\u001b[0m\u001b[0m\n\u001b[1;32m      6\u001b[0m     \u001b[0moutput\u001b[0m \u001b[0;34m=\u001b[0m \u001b[0mPath\u001b[0m\u001b[0;34m(\u001b[0m\u001b[0;34mf'{new_dir}/{f.name}.png'\u001b[0m\u001b[0;34m)\u001b[0m\u001b[0;34m\u001b[0m\u001b[0;34m\u001b[0m\u001b[0m\n",
            "\u001b[0;31mKeyError\u001b[0m: 'bulbasaur'"
          ]
        }
      ],
      "source": [
        "for pokemonType in df['Type1'].unique():\n",
        "  new_dir = f'./pokemon/{pokemonType}'\n",
        "  makedirs(new_dir, exist_ok=True)\n",
        "  files = [labelledImages[name] for name in df[df['Type1'] == pokemonType]['Name']]\n",
        "  for f in files:\n",
        "    output = Path(f'{new_dir}/{f.name}.png')\n",
        "    shutil.move(f, output)"
      ]
    },
    {
      "cell_type": "code",
      "execution_count": null,
      "metadata": {
        "id": "Hi_FDmufLF8b"
      },
      "outputs": [],
      "source": [
        "dataPath = Path('pokemon/')"
      ]
    },
    {
      "cell_type": "code",
      "execution_count": null,
      "metadata": {
        "colab": {
          "base_uri": "https://localhost:8080/"
        },
        "id": "v8rvmQnMLViu",
        "outputId": "8d97a467-4207-4779-b3c7-c1fbc6caa06c"
      },
      "outputs": [
        {
          "name": "stdout",
          "output_type": "stream",
          "text": [
            "Found 809 files belonging to 18 classes.\n",
            "Using 567 files for training.\n"
          ]
        }
      ],
      "source": [
        "trainDS = tf.keras.utils.image_dataset_from_directory(\n",
        "  dataPath,\n",
        "  validation_split=0.3,\n",
        "  label_mode='categorical',\n",
        "  subset=\"training\",\n",
        "  seed=SEED,\n",
        "  image_size=imgSize,\n",
        "  batch_size=batchSize)"
      ]
    },
    {
      "cell_type": "code",
      "execution_count": 62,
      "metadata": {
        "colab": {
          "base_uri": "https://localhost:8080/"
        },
        "id": "uag5B73IOu7u",
        "outputId": "3f4e8c6a-f507-4ea1-8156-d98ddddc7f76"
      },
      "outputs": [
        {
          "name": "stdout",
          "output_type": "stream",
          "text": [
            "Found 809 files belonging to 18 classes.\n",
            "Using 161 files for validation.\n"
          ]
        }
      ],
      "source": [
        "valDS = tf.keras.utils.image_dataset_from_directory(\n",
        "  dataPath,\n",
        "  validation_split=0.2,\n",
        "  label_mode='categorical',\n",
        "  subset=\"validation\",\n",
        "  seed=SEED,\n",
        "  image_size=imgSize,\n",
        "  batch_size=batchSize)"
      ]
    },
    {
      "cell_type": "code",
      "execution_count": 64,
      "metadata": {},
      "outputs": [
        {
          "data": {
            "text/plain": [
              "<BatchDataset shapes: ((None, 128, 128, 3), (None, 18)), types: (tf.float32, tf.float32)>"
            ]
          },
          "execution_count": 64,
          "metadata": {},
          "output_type": "execute_result"
        }
      ],
      "source": [
        "valDS"
      ]
    },
    {
      "cell_type": "code",
      "execution_count": null,
      "metadata": {
        "id": "ju24CzjMkqVw"
      },
      "outputs": [],
      "source": [
        "cardinality = tf.data.experimental.cardinality(valDS)\n",
        "halfed = cardinality//2\n",
        "testDS = valDS.take(halfed)\n",
        "valDS = valDS.skip(halfed)"
      ]
    },
    {
      "cell_type": "code",
      "execution_count": null,
      "metadata": {
        "colab": {
          "base_uri": "https://localhost:8080/"
        },
        "id": "j30DMFsZmPVw",
        "outputId": "546d32b4-f340-4db2-82f3-f6d69e623c74"
      },
      "outputs": [
        {
          "data": {
            "text/plain": [
              "['Bug',\n",
              " 'Dark',\n",
              " 'Dragon',\n",
              " 'Electric',\n",
              " 'Fairy',\n",
              " 'Fighting',\n",
              " 'Fire',\n",
              " 'Flying',\n",
              " 'Ghost',\n",
              " 'Grass',\n",
              " 'Ground',\n",
              " 'Ice',\n",
              " 'Normal',\n",
              " 'Poison',\n",
              " 'Psychic',\n",
              " 'Rock',\n",
              " 'Steel',\n",
              " 'Water']"
            ]
          },
          "execution_count": 27,
          "metadata": {},
          "output_type": "execute_result"
        }
      ],
      "source": [
        "types = trainDS.class_names\n",
        "types"
      ]
    },
    {
      "cell_type": "markdown",
      "metadata": {
        "id": "6Rb4cJlCTscy"
      },
      "source": [
        "The model was able to recognize the 18 types which is evident from the 809 images split into 18 classes."
      ]
    },
    {
      "cell_type": "code",
      "execution_count": null,
      "metadata": {
        "colab": {
          "base_uri": "https://localhost:8080/",
          "height": 449
        },
        "id": "scnH_aKlp0MK",
        "outputId": "b94db049-a519-442e-f9bd-5de5382db7b0"
      },
      "outputs": [
        {
          "data": {
            "image/png": "[encoded data removed]",
            "text/plain": [
              "<Figure size 720x720 with 12 Axes>"
            ]
          },
          "metadata": {
            "needs_background": "light"
          },
          "output_type": "display_data"
        }
      ],
      "source": [
        "plt.figure(figsize=(10, 10))\n",
        "for images, labels in trainDS.take(1):\n",
        "  for i in range(12):\n",
        "    ax = plt.subplot(4, 4, i + 1)\n",
        "    plt.imshow(images[i].numpy().astype(\"uint8\"))\n",
        "    plt.title(types[np.argmax(labels[i])])\n",
        "    plt.axis(\"off\")"
      ]
    },
    {
      "cell_type": "code",
      "execution_count": null,
      "metadata": {
        "id": "gDqlYhTubfzx"
      },
      "outputs": [],
      "source": [
        "# Model Implementation\n",
        "\n",
        "model = tf.keras.Sequential([\n",
        "    \n",
        "    # Input Layer\n",
        "    tf.keras.layers.Resizing(256, 256, input_shape=(imgSize[0], imgSize[1], 3)),\n",
        "\n",
        "    # Convolutional Layers\n",
        "    tf.keras.layers.Conv2D(16, 3, padding='same', activation='relu'),\n",
        "    tf.keras.layers.MaxPooling2D((2, 2)),\n",
        "    tf.keras.layers.Conv2D(16, 3, padding='same', activation='relu'),\n",
        "    tf.keras.layers.MaxPooling2D((2, 2)),\n",
        "    tf.keras.layers.Conv2D(32, 3, padding='same', activation='relu'),\n",
        "    tf.keras.layers.MaxPooling2D((2, 2)),\n",
        "\n",
        "    # Dense Layers\n",
        "    tf.keras.layers.Flatten(),\n",
        "    tf.keras.layers.Dense(256, activation='relu'),\n",
        "    tf.keras.layers.Dense(128, activation='relu'),\n",
        "    tf.keras.layers.Dense(64, activation='relu'),\n",
        "    tf.keras.layers.Dropout(0.3),\n",
        "    tf.keras.layers.Dense(len(types))\n",
        "])"
      ]
    },
    {
      "cell_type": "code",
      "execution_count": null,
      "metadata": {
        "colab": {
          "base_uri": "https://localhost:8080/"
        },
        "id": "E4VjlQU0kM2s",
        "outputId": "0b3ca502-e17d-4041-9eba-95d276f455be"
      },
      "outputs": [
        {
          "name": "stdout",
          "output_type": "stream",
          "text": [
            "Model: \"sequential\"\n",
            "_________________________________________________________________\n",
            "Layer (type)                 Output Shape              Param #   \n",
            "=================================================================\n",
            "resizing (Resizing)          (None, 256, 256, 3)       0         \n",
            "_________________________________________________________________\n",
            "conv2d (Conv2D)              (None, 256, 256, 16)      448       \n",
            "_________________________________________________________________\n",
            "max_pooling2d (MaxPooling2D) (None, 128, 128, 16)      0         \n",
            "_________________________________________________________________\n",
            "conv2d_1 (Conv2D)            (None, 128, 128, 16)      2320      \n",
            "_________________________________________________________________\n",
            "max_pooling2d_1 (MaxPooling2 (None, 64, 64, 16)        0         \n",
            "_________________________________________________________________\n",
            "conv2d_2 (Conv2D)            (None, 64, 64, 32)        4640      \n",
            "_________________________________________________________________\n",
            "max_pooling2d_2 (MaxPooling2 (None, 32, 32, 32)        0         \n",
            "_________________________________________________________________\n",
            "flatten (Flatten)            (None, 32768)             0         \n",
            "_________________________________________________________________\n",
            "dense (Dense)                (None, 256)               8388864   \n",
            "_________________________________________________________________\n",
            "dense_1 (Dense)              (None, 128)               32896     \n",
            "_________________________________________________________________\n",
            "dense_2 (Dense)              (None, 64)                8256      \n",
            "_________________________________________________________________\n",
            "dropout (Dropout)            (None, 64)                0         \n",
            "_________________________________________________________________\n",
            "dense_3 (Dense)              (None, 18)                1170      \n",
            "=================================================================\n",
            "Total params: 8,438,594\n",
            "Trainable params: 8,438,594\n",
            "Non-trainable params: 0\n",
            "_________________________________________________________________\n"
          ]
        }
      ],
      "source": [
        "model.compile(\n",
        "              optimizer='adam',\n",
        "              loss=tf.keras.losses.CategoricalCrossentropy(from_logits=True),\n",
        "              metrics=['accuracy']\n",
        "              )\n",
        "model.summary()"
      ]
    },
    {
      "cell_type": "code",
      "execution_count": null,
      "metadata": {
        "colab": {
          "base_uri": "https://localhost:8080/"
        },
        "id": "trJv9wpplSpJ",
        "outputId": "ca5e63c3-e5a7-4a5a-8455-cb2f87ab87ec"
      },
      "outputs": [
        {
          "name": "stdout",
          "output_type": "stream",
          "text": [
            "Epoch 1/20\n",
            "18/18 [==============================] - 4s 189ms/step - loss: 22.1296 - accuracy: 0.0758 - val_loss: 2.9169 - val_accuracy: 0.0923\n",
            "Epoch 2/20\n",
            "18/18 [==============================] - 3s 181ms/step - loss: 2.7178 - accuracy: 0.1376 - val_loss: 2.8658 - val_accuracy: 0.1692\n",
            "Epoch 3/20\n",
            "18/18 [==============================] - 3s 180ms/step - loss: 2.5211 - accuracy: 0.2169 - val_loss: 2.7726 - val_accuracy: 0.1385\n",
            "Epoch 4/20\n",
            "18/18 [==============================] - 3s 178ms/step - loss: 2.2566 - accuracy: 0.3034 - val_loss: 2.8979 - val_accuracy: 0.1231\n",
            "Epoch 5/20\n",
            "18/18 [==============================] - 3s 178ms/step - loss: 1.9145 - accuracy: 0.3527 - val_loss: 3.0803 - val_accuracy: 0.2308\n",
            "Epoch 6/20\n",
            "18/18 [==============================] - 3s 179ms/step - loss: 1.5652 - accuracy: 0.4709 - val_loss: 3.1968 - val_accuracy: 0.1231\n",
            "Epoch 7/20\n",
            "18/18 [==============================] - 3s 180ms/step - loss: 1.2753 - accuracy: 0.5697 - val_loss: 3.3447 - val_accuracy: 0.1538\n",
            "Epoch 8/20\n",
            "18/18 [==============================] - 3s 177ms/step - loss: 1.2453 - accuracy: 0.5979 - val_loss: 3.2837 - val_accuracy: 0.0923\n",
            "Epoch 9/20\n",
            "18/18 [==============================] - 3s 179ms/step - loss: 1.0568 - accuracy: 0.6384 - val_loss: 3.5690 - val_accuracy: 0.1538\n",
            "Epoch 10/20\n",
            "18/18 [==============================] - 3s 178ms/step - loss: 0.8621 - accuracy: 0.7143 - val_loss: 3.5302 - val_accuracy: 0.1692\n",
            "Epoch 11/20\n",
            "18/18 [==============================] - 3s 178ms/step - loss: 0.7401 - accuracy: 0.7584 - val_loss: 4.0572 - val_accuracy: 0.2000\n",
            "Epoch 12/20\n",
            "18/18 [==============================] - 3s 178ms/step - loss: 0.7206 - accuracy: 0.7813 - val_loss: 4.1532 - val_accuracy: 0.2000\n",
            "Epoch 13/20\n",
            "18/18 [==============================] - 3s 178ms/step - loss: 0.6837 - accuracy: 0.7778 - val_loss: 3.7139 - val_accuracy: 0.1846\n",
            "Epoch 14/20\n",
            "18/18 [==============================] - 3s 178ms/step - loss: 0.5869 - accuracy: 0.8166 - val_loss: 4.0945 - val_accuracy: 0.2154\n",
            "Epoch 15/20\n",
            "18/18 [==============================] - 3s 176ms/step - loss: 0.5462 - accuracy: 0.8395 - val_loss: 4.2722 - val_accuracy: 0.2000\n",
            "Epoch 16/20\n",
            "18/18 [==============================] - 3s 176ms/step - loss: 0.4771 - accuracy: 0.8607 - val_loss: 4.1347 - val_accuracy: 0.1692\n",
            "Epoch 17/20\n",
            "18/18 [==============================] - 3s 179ms/step - loss: 0.4499 - accuracy: 0.8624 - val_loss: 4.1434 - val_accuracy: 0.2308\n",
            "Epoch 18/20\n",
            "18/18 [==============================] - 3s 178ms/step - loss: 0.4131 - accuracy: 0.8624 - val_loss: 4.7073 - val_accuracy: 0.1385\n",
            "Epoch 19/20\n",
            "18/18 [==============================] - 3s 178ms/step - loss: 0.3922 - accuracy: 0.8783 - val_loss: 4.9411 - val_accuracy: 0.1077\n",
            "Epoch 20/20\n",
            "18/18 [==============================] - 3s 178ms/step - loss: 0.3042 - accuracy: 0.8995 - val_loss: 5.0905 - val_accuracy: 0.1538\n"
          ]
        }
      ],
      "source": [
        "history = model.fit(\n",
        "            trainDS,\n",
        "            validation_data=valDS,\n",
        "            epochs=20\n",
        "          )"
      ]
    },
    {
      "cell_type": "code",
      "execution_count": null,
      "metadata": {
        "colab": {
          "base_uri": "https://localhost:8080/"
        },
        "id": "FWGdR4iH4Q4r",
        "outputId": "68867252-d5f9-4744-c58a-74161502d677"
      },
      "outputs": [
        {
          "name": "stdout",
          "output_type": "stream",
          "text": [
            "3/3 [==============================] - 0s 36ms/step - loss: 5.0268 - accuracy: 0.1875\n",
            "Test loss: 5.026790142059326, Test accuracy: 0.1875\n"
          ]
        }
      ],
      "source": [
        "loss, accuracy = model.evaluate(testDS)\n",
        "print(f'Test loss: {loss}, Test accuracy: {accuracy}')"
      ]
    },
    {
      "cell_type": "markdown",
      "metadata": {
        "id": "Z1G4GLB9VBI5"
      },
      "source": [
        "The pokemon were designed purposefully to have certain traits match the assigned types. For example, the pokemon gloomish resembles that of a plant and has a flower like structure on top of its head, signifying it is a grass type pokemon. Another example would be squirtle where its shape and characteristics were modeled after a turtle which is an amphibious createure. Along with this, it has a blue color, strongly correlating itself to being a water type. Many of the pokemon within a certain type category share much similarities and it would be essential for these patterns to be discovered by the model. \n",
        "\n",
        "The implementation had 3 convolutional, pooling and dense layers. Even with the change in hyperparemeters and playing with values, the performance is far from satisfactory. The loss is at a high value and the test accuracy is at an extremely low 6%. This is a complicated problem since it does need to categorize the pokemon into 18 clasesses. Most likely it is difficult for this model to generalize with this manny options and it is problably going through much overfitting too."
      ]
    },
    {
      "cell_type": "markdown",
      "metadata": {
        "id": "d9Rai4hqo_AN"
      },
      "source": [
        "**Part 2 (25 points)**: The following models are widely used for transfer learning because of\n",
        "their performance and architectural innovations:\n",
        "1. VGG (e.g., VGG16 or VGG19).\n",
        "2. GoogLeNet (e.g., InceptionV3).\n",
        "3. Residual Network (e.g., ResNet50).\n",
        "4. MobileNet (e.g., MobileNetV2)\n",
        "\n",
        "Choose any **one** of the above models to perform the classification task you did in Part 1.\n",
        "Evaluate the results using the same metrics as in Part 1. Are there any differences? Why\n",
        "or why not?"
      ]
    },
    {
      "cell_type": "code",
      "execution_count": null,
      "metadata": {
        "id": "LqQGP2H6pdOI"
      },
      "outputs": [
        {
          "ename": "OSError",
          "evalue": "Unable to open file (unable to lock file, errno = 5, error message = 'Input/output error')",
          "output_type": "error",
          "traceback": [
            "\u001b[0;31m---------------------------------------------------------------------------\u001b[0m",
            "\u001b[0;31mOSError\u001b[0m                                   Traceback (most recent call last)",
            "\u001b[0;32m<ipython-input-33-ecd2814665ee>\u001b[0m in \u001b[0;36m<module>\u001b[0;34m\u001b[0m\n\u001b[1;32m      3\u001b[0m   \u001b[0minclude_top\u001b[0m\u001b[0;34m=\u001b[0m\u001b[0;32mFalse\u001b[0m\u001b[0;34m,\u001b[0m\u001b[0;34m\u001b[0m\u001b[0;34m\u001b[0m\u001b[0m\n\u001b[1;32m      4\u001b[0m   \u001b[0minput_shape\u001b[0m\u001b[0;34m=\u001b[0m\u001b[0;34m(\u001b[0m\u001b[0msize\u001b[0m\u001b[0;34m,\u001b[0m \u001b[0msize\u001b[0m\u001b[0;34m,\u001b[0m \u001b[0;36m3\u001b[0m\u001b[0;34m)\u001b[0m\u001b[0;34m,\u001b[0m\u001b[0;34m\u001b[0m\u001b[0;34m\u001b[0m\u001b[0m\n\u001b[0;32m----> 5\u001b[0;31m   \u001b[0mweights\u001b[0m\u001b[0;34m=\u001b[0m\u001b[0;34m'imagenet'\u001b[0m\u001b[0;34m\u001b[0m\u001b[0;34m\u001b[0m\u001b[0m\n\u001b[0m\u001b[1;32m      6\u001b[0m )\n",
            "\u001b[0;32m~/.local/lib/python3.6/site-packages/keras/applications/inception_v3.py\u001b[0m in \u001b[0;36mInceptionV3\u001b[0;34m(include_top, weights, input_tensor, input_shape, pooling, classes, classifier_activation)\u001b[0m\n\u001b[1;32m    356\u001b[0m           \u001b[0mcache_subdir\u001b[0m\u001b[0;34m=\u001b[0m\u001b[0;34m'models'\u001b[0m\u001b[0;34m,\u001b[0m\u001b[0;34m\u001b[0m\u001b[0;34m\u001b[0m\u001b[0m\n\u001b[1;32m    357\u001b[0m           file_hash='bcbd6486424b2319ff4ef7d526e38f63')\n\u001b[0;32m--> 358\u001b[0;31m     \u001b[0mmodel\u001b[0m\u001b[0;34m.\u001b[0m\u001b[0mload_weights\u001b[0m\u001b[0;34m(\u001b[0m\u001b[0mweights_path\u001b[0m\u001b[0;34m)\u001b[0m\u001b[0;34m\u001b[0m\u001b[0;34m\u001b[0m\u001b[0m\n\u001b[0m\u001b[1;32m    359\u001b[0m   \u001b[0;32melif\u001b[0m \u001b[0mweights\u001b[0m \u001b[0;32mis\u001b[0m \u001b[0;32mnot\u001b[0m \u001b[0;32mNone\u001b[0m\u001b[0;34m:\u001b[0m\u001b[0;34m\u001b[0m\u001b[0;34m\u001b[0m\u001b[0m\n\u001b[1;32m    360\u001b[0m     \u001b[0mmodel\u001b[0m\u001b[0;34m.\u001b[0m\u001b[0mload_weights\u001b[0m\u001b[0;34m(\u001b[0m\u001b[0mweights\u001b[0m\u001b[0;34m)\u001b[0m\u001b[0;34m\u001b[0m\u001b[0;34m\u001b[0m\u001b[0m\n",
            "\u001b[0;32m~/.local/lib/python3.6/site-packages/keras/engine/training.py\u001b[0m in \u001b[0;36mload_weights\u001b[0;34m(self, filepath, by_name, skip_mismatch, options)\u001b[0m\n\u001b[1;32m   2352\u001b[0m             'first, then load the weights.')\n\u001b[1;32m   2353\u001b[0m       \u001b[0mself\u001b[0m\u001b[0;34m.\u001b[0m\u001b[0m_assert_weights_created\u001b[0m\u001b[0;34m(\u001b[0m\u001b[0;34m)\u001b[0m\u001b[0;34m\u001b[0m\u001b[0;34m\u001b[0m\u001b[0m\n\u001b[0;32m-> 2354\u001b[0;31m       \u001b[0;32mwith\u001b[0m \u001b[0mh5py\u001b[0m\u001b[0;34m.\u001b[0m\u001b[0mFile\u001b[0m\u001b[0;34m(\u001b[0m\u001b[0mfilepath\u001b[0m\u001b[0;34m,\u001b[0m \u001b[0;34m'r'\u001b[0m\u001b[0;34m)\u001b[0m \u001b[0;32mas\u001b[0m \u001b[0mf\u001b[0m\u001b[0;34m:\u001b[0m\u001b[0;34m\u001b[0m\u001b[0;34m\u001b[0m\u001b[0m\n\u001b[0m\u001b[1;32m   2355\u001b[0m         \u001b[0;32mif\u001b[0m \u001b[0;34m'layer_names'\u001b[0m \u001b[0;32mnot\u001b[0m \u001b[0;32min\u001b[0m \u001b[0mf\u001b[0m\u001b[0;34m.\u001b[0m\u001b[0mattrs\u001b[0m \u001b[0;32mand\u001b[0m \u001b[0;34m'model_weights'\u001b[0m \u001b[0;32min\u001b[0m \u001b[0mf\u001b[0m\u001b[0;34m:\u001b[0m\u001b[0;34m\u001b[0m\u001b[0;34m\u001b[0m\u001b[0m\n\u001b[1;32m   2356\u001b[0m           \u001b[0mf\u001b[0m \u001b[0;34m=\u001b[0m \u001b[0mf\u001b[0m\u001b[0;34m[\u001b[0m\u001b[0;34m'model_weights'\u001b[0m\u001b[0;34m]\u001b[0m\u001b[0;34m\u001b[0m\u001b[0;34m\u001b[0m\u001b[0m\n",
            "\u001b[0;32m~/.local/lib/python3.6/site-packages/h5py/_hl/files.py\u001b[0m in \u001b[0;36m__init__\u001b[0;34m(self, name, mode, driver, libver, userblock_size, swmr, rdcc_nslots, rdcc_nbytes, rdcc_w0, track_order, fs_strategy, fs_persist, fs_threshold, **kwds)\u001b[0m\n\u001b[1;32m    425\u001b[0m                                fapl, fcpl=make_fcpl(track_order=track_order, fs_strategy=fs_strategy,\n\u001b[1;32m    426\u001b[0m                                fs_persist=fs_persist, fs_threshold=fs_threshold),\n\u001b[0;32m--> 427\u001b[0;31m                                swmr=swmr)\n\u001b[0m\u001b[1;32m    428\u001b[0m \u001b[0;34m\u001b[0m\u001b[0m\n\u001b[1;32m    429\u001b[0m             \u001b[0;32mif\u001b[0m \u001b[0misinstance\u001b[0m\u001b[0;34m(\u001b[0m\u001b[0mlibver\u001b[0m\u001b[0;34m,\u001b[0m \u001b[0mtuple\u001b[0m\u001b[0;34m)\u001b[0m\u001b[0;34m:\u001b[0m\u001b[0;34m\u001b[0m\u001b[0;34m\u001b[0m\u001b[0m\n",
            "\u001b[0;32m~/.local/lib/python3.6/site-packages/h5py/_hl/files.py\u001b[0m in \u001b[0;36mmake_fid\u001b[0;34m(name, mode, userblock_size, fapl, fcpl, swmr)\u001b[0m\n\u001b[1;32m    188\u001b[0m         \u001b[0;32mif\u001b[0m \u001b[0mswmr\u001b[0m \u001b[0;32mand\u001b[0m \u001b[0mswmr_support\u001b[0m\u001b[0;34m:\u001b[0m\u001b[0;34m\u001b[0m\u001b[0;34m\u001b[0m\u001b[0m\n\u001b[1;32m    189\u001b[0m             \u001b[0mflags\u001b[0m \u001b[0;34m|=\u001b[0m \u001b[0mh5f\u001b[0m\u001b[0;34m.\u001b[0m\u001b[0mACC_SWMR_READ\u001b[0m\u001b[0;34m\u001b[0m\u001b[0;34m\u001b[0m\u001b[0m\n\u001b[0;32m--> 190\u001b[0;31m         \u001b[0mfid\u001b[0m \u001b[0;34m=\u001b[0m \u001b[0mh5f\u001b[0m\u001b[0;34m.\u001b[0m\u001b[0mopen\u001b[0m\u001b[0;34m(\u001b[0m\u001b[0mname\u001b[0m\u001b[0;34m,\u001b[0m \u001b[0mflags\u001b[0m\u001b[0;34m,\u001b[0m \u001b[0mfapl\u001b[0m\u001b[0;34m=\u001b[0m\u001b[0mfapl\u001b[0m\u001b[0;34m)\u001b[0m\u001b[0;34m\u001b[0m\u001b[0;34m\u001b[0m\u001b[0m\n\u001b[0m\u001b[1;32m    191\u001b[0m     \u001b[0;32melif\u001b[0m \u001b[0mmode\u001b[0m \u001b[0;34m==\u001b[0m \u001b[0;34m'r+'\u001b[0m\u001b[0;34m:\u001b[0m\u001b[0;34m\u001b[0m\u001b[0;34m\u001b[0m\u001b[0m\n\u001b[1;32m    192\u001b[0m         \u001b[0mfid\u001b[0m \u001b[0;34m=\u001b[0m \u001b[0mh5f\u001b[0m\u001b[0;34m.\u001b[0m\u001b[0mopen\u001b[0m\u001b[0;34m(\u001b[0m\u001b[0mname\u001b[0m\u001b[0;34m,\u001b[0m \u001b[0mh5f\u001b[0m\u001b[0;34m.\u001b[0m\u001b[0mACC_RDWR\u001b[0m\u001b[0;34m,\u001b[0m \u001b[0mfapl\u001b[0m\u001b[0;34m=\u001b[0m\u001b[0mfapl\u001b[0m\u001b[0;34m)\u001b[0m\u001b[0;34m\u001b[0m\u001b[0;34m\u001b[0m\u001b[0m\n",
            "\u001b[0;32mh5py/_objects.pyx\u001b[0m in \u001b[0;36mh5py._objects.with_phil.wrapper\u001b[0;34m()\u001b[0m\n",
            "\u001b[0;32mh5py/_objects.pyx\u001b[0m in \u001b[0;36mh5py._objects.with_phil.wrapper\u001b[0;34m()\u001b[0m\n",
            "\u001b[0;32mh5py/h5f.pyx\u001b[0m in \u001b[0;36mh5py.h5f.open\u001b[0;34m()\u001b[0m\n",
            "\u001b[0;31mOSError\u001b[0m: Unable to open file (unable to lock file, errno = 5, error message = 'Input/output error')"
          ]
        }
      ],
      "source": [
        "size = imgSize[0]\n",
        "googleInception = tf.keras.applications.inception_v3.InceptionV3(\n",
        "  include_top=False,\n",
        "  input_shape=(size, size, 3),\n",
        "  weights='imagenet'\n",
        ")"
      ]
    },
    {
      "cell_type": "code",
      "execution_count": null,
      "metadata": {
        "id": "MxCeCQc9qspg"
      },
      "outputs": [],
      "source": [
        "input = tf.keras.Input((size, size, 3))\n",
        "x = tf.keras.applications.inception_v3.preprocess_input(input)\n",
        "x = googleInception(x)\n",
        "x = tf.keras.layers.GlobalAveragePooling2D()(x)\n",
        "x = tf.keras.layers.Dropout(0.2)(x)\n",
        "output = tf.keras.layers.Dense(len(types))(x)\n",
        "model = tf.keras.Model(input, output)"
      ]
    },
    {
      "cell_type": "code",
      "execution_count": null,
      "metadata": {
        "id": "yjaoSOJ4tJJm"
      },
      "outputs": [],
      "source": [
        "model.compile(\n",
        "              optimizer='adam',\n",
        "              loss=tf.keras.losses.CategoricalCrossentropy(from_logits=True),\n",
        "              metrics=['accuracy']\n",
        "              )"
      ]
    },
    {
      "cell_type": "code",
      "execution_count": null,
      "metadata": {
        "colab": {
          "base_uri": "https://localhost:8080/"
        },
        "id": "8m-7AaCrtXVs",
        "outputId": "d41bae90-a268-4b28-edbb-8c589a661e9c"
      },
      "outputs": [
        {
          "name": "stdout",
          "output_type": "stream",
          "text": [
            "Model: \"model_1\"\n",
            "_________________________________________________________________\n",
            " Layer (type)                Output Shape              Param #   \n",
            "=================================================================\n",
            " input_4 (InputLayer)        [(None, 128, 128, 3)]     0         \n",
            "                                                                 \n",
            " tf.math.truediv_1 (TFOpLamb  (None, 128, 128, 3)      0         \n",
            " da)                                                             \n",
            "                                                                 \n",
            " tf.math.subtract_1 (TFOpLam  (None, 128, 128, 3)      0         \n",
            " bda)                                                            \n",
            "                                                                 \n",
            " inception_v3 (Functional)   (None, 2, 2, 2048)        21802784  \n",
            "                                                                 \n",
            " global_average_pooling2d_1   (None, 2048)             0         \n",
            " (GlobalAveragePooling2D)                                        \n",
            "                                                                 \n",
            " dropout_4 (Dropout)         (None, 2048)              0         \n",
            "                                                                 \n",
            " dense_13 (Dense)            (None, 18)                36882     \n",
            "                                                                 \n",
            "=================================================================\n",
            "Total params: 21,839,666\n",
            "Trainable params: 21,805,234\n",
            "Non-trainable params: 34,432\n",
            "_________________________________________________________________\n"
          ]
        }
      ],
      "source": [
        "model.summary()"
      ]
    },
    {
      "cell_type": "code",
      "execution_count": null,
      "metadata": {
        "colab": {
          "base_uri": "https://localhost:8080/"
        },
        "id": "HT_zGhaAtbn0",
        "outputId": "2fe3a1cd-298c-410f-f3b6-69fad74843f9"
      },
      "outputs": [
        {
          "name": "stdout",
          "output_type": "stream",
          "text": [
            "Epoch 1/12\n",
            "18/18 [==============================] - 108s 6s/step - loss: 2.9538 - accuracy: 0.1429 - val_loss: 21.1632 - val_accuracy: 0.1692\n",
            "Epoch 2/12\n",
            "18/18 [==============================] - 99s 5s/step - loss: 2.5245 - accuracy: 0.2504 - val_loss: 27.8394 - val_accuracy: 0.0923\n",
            "Epoch 3/12\n",
            "18/18 [==============================] - 97s 5s/step - loss: 2.2087 - accuracy: 0.3245 - val_loss: 538.8924 - val_accuracy: 0.1385\n",
            "Epoch 4/12\n",
            "18/18 [==============================] - 98s 5s/step - loss: 1.8877 - accuracy: 0.4409 - val_loss: 21.9462 - val_accuracy: 0.0462\n",
            "Epoch 5/12\n",
            "18/18 [==============================] - 99s 5s/step - loss: 1.4361 - accuracy: 0.5820 - val_loss: 4.3238 - val_accuracy: 0.1231\n",
            "Epoch 6/12\n",
            "18/18 [==============================] - 98s 5s/step - loss: 1.1382 - accuracy: 0.6984 - val_loss: 4.3346 - val_accuracy: 0.2000\n",
            "Epoch 7/12\n",
            "18/18 [==============================] - 98s 5s/step - loss: 0.9642 - accuracy: 0.7407 - val_loss: 16.3074 - val_accuracy: 0.1077\n",
            "Epoch 8/12\n",
            "18/18 [==============================] - 98s 5s/step - loss: 0.9290 - accuracy: 0.7249 - val_loss: 151.5211 - val_accuracy: 0.1231\n",
            "Epoch 9/12\n",
            "18/18 [==============================] - 98s 5s/step - loss: 0.6517 - accuracy: 0.8131 - val_loss: 3.2132 - val_accuracy: 0.1538\n",
            "Epoch 10/12\n",
            "18/18 [==============================] - 98s 5s/step - loss: 0.4252 - accuracy: 0.8836 - val_loss: 11.3900 - val_accuracy: 0.2154\n",
            "Epoch 11/12\n",
            "18/18 [==============================] - 97s 5s/step - loss: 0.4939 - accuracy: 0.8607 - val_loss: 4.8825 - val_accuracy: 0.1538\n",
            "Epoch 12/12\n",
            "18/18 [==============================] - 97s 5s/step - loss: 0.4918 - accuracy: 0.8519 - val_loss: 13.9986 - val_accuracy: 0.1846\n"
          ]
        }
      ],
      "source": [
        "history = model.fit(\n",
        "            trainDS,\n",
        "            validation_data=valDS,\n",
        "            epochs=12\n",
        "          )"
      ]
    },
    {
      "cell_type": "code",
      "execution_count": null,
      "metadata": {
        "colab": {
          "base_uri": "https://localhost:8080/"
        },
        "id": "v2Iafr6ftxGn",
        "outputId": "289bd38e-cf07-4361-9282-90d508148b59"
      },
      "outputs": [
        {
          "name": "stdout",
          "output_type": "stream",
          "text": [
            "3/3 [==============================] - 3s 905ms/step - loss: 16.2591 - accuracy: 0.2188\n",
            "Test loss: 16.25908851623535, Test accuracy: 0.21875\n"
          ]
        }
      ],
      "source": [
        "loss, accuracy = model.evaluate(testDS)\n",
        "print(f'Test loss: {loss}, Test accuracy: {accuracy}')"
      ]
    },
    {
      "cell_type": "markdown",
      "metadata": {
        "id": "31Vw3lauZyiK"
      },
      "source": [
        "The Inception V3 model by Google performaed much better with a way higher accuracy. Overfitting is still occurring but, this pretrained model was given a sufficient amount of quality data to give a better performance overall. This is definitely a big improvement compared to the last model. "
      ]
    },
    {
      "cell_type": "markdown",
      "metadata": {
        "id": "bCYE5q2vt5Yv"
      },
      "source": [
        "**Part 3 (25 points)**:  Use data augmentation to increase the diversity of your dataset by\n",
        "applying random transformations such as image rotation (you can use any other\n",
        "technique as well). Repeat the process from part 1 with this augmented data. Did you\n",
        "observe any difference in results?"
      ]
    },
    {
      "cell_type": "code",
      "execution_count": null,
      "metadata": {
        "id": "Zodeo0yzt4vh"
      },
      "outputs": [],
      "source": [
        "model = tf.keras.Sequential([\n",
        "\n",
        "  # Input Layer\n",
        "  tf.keras.layers.Resizing(256, 256, input_shape=(size, size, 3)),\n",
        "\n",
        "  # Random Flip and Rotation\n",
        "  tf.keras.layers.RandomFlip(\"horizontal\"),\n",
        "  tf.keras.layers.RandomRotation(0.1),\n",
        "\n",
        "  tf.keras.layers.RandomZoom(0.1),\n",
        "  tf.keras.layers.Rescaling(1./255),\n",
        "\n",
        "  # Convolutional Layers\n",
        "  tf.keras.layers.Conv2D(16, 3, padding='same', activation='relu'),\n",
        "  tf.keras.layers.MaxPooling2D((2, 2)),\n",
        "  tf.keras.layers.Conv2D(16, 3, padding='same', activation='relu'),\n",
        "  tf.keras.layers.MaxPooling2D((2, 2)),\n",
        "  tf.keras.layers.Conv2D(32, 3, padding='same', activation='relu'),\n",
        "  tf.keras.layers.MaxPooling2D((2, 2)),\n",
        "\n",
        "  # Dense Layers\n",
        "  tf.keras.layers.Flatten(),\n",
        "  tf.keras.layers.Dense(256, activation='relu'),\n",
        "  tf.keras.layers.Dense(128, activation='relu'),\n",
        "  tf.keras.layers.Dense(64, activation='relu'),\n",
        "  tf.keras.layers.Dropout(0.4),\n",
        "  tf.keras.layers.Dense(len(types))\n",
        "\n",
        "])"
      ]
    },
    {
      "cell_type": "code",
      "execution_count": null,
      "metadata": {
        "id": "Cjij2fAVyt7o"
      },
      "outputs": [],
      "source": [
        "model.compile(\n",
        "              optimizer='adam',\n",
        "              loss=tf.keras.losses.CategoricalCrossentropy(from_logits=True),\n",
        "              metrics=['accuracy']\n",
        "              )"
      ]
    },
    {
      "cell_type": "code",
      "execution_count": null,
      "metadata": {
        "colab": {
          "base_uri": "https://localhost:8080/"
        },
        "id": "aIqWX8Eqy6eg",
        "outputId": "279bf2c5-16d3-43a6-83f2-b91c5388d9ab"
      },
      "outputs": [
        {
          "name": "stdout",
          "output_type": "stream",
          "text": [
            "Epoch 1/20\n",
            "18/18 [==============================] - 35s 2s/step - loss: 2.8309 - accuracy: 0.0935 - val_loss: 2.7579 - val_accuracy: 0.1538\n",
            "Epoch 2/20\n",
            "18/18 [==============================] - 34s 2s/step - loss: 2.7695 - accuracy: 0.1358 - val_loss: 2.7420 - val_accuracy: 0.0923\n",
            "Epoch 3/20\n",
            "18/18 [==============================] - 34s 2s/step - loss: 2.7504 - accuracy: 0.1270 - val_loss: 2.7891 - val_accuracy: 0.1538\n",
            "Epoch 4/20\n",
            "18/18 [==============================] - 33s 2s/step - loss: 2.7430 - accuracy: 0.1235 - val_loss: 2.7316 - val_accuracy: 0.1231\n",
            "Epoch 5/20\n",
            "18/18 [==============================] - 34s 2s/step - loss: 2.6861 - accuracy: 0.1517 - val_loss: 2.5250 - val_accuracy: 0.2462\n",
            "Epoch 6/20\n",
            "18/18 [==============================] - 35s 2s/step - loss: 2.6491 - accuracy: 0.1834 - val_loss: 2.5462 - val_accuracy: 0.3077\n",
            "Epoch 7/20\n",
            "18/18 [==============================] - 34s 2s/step - loss: 2.5994 - accuracy: 0.1887 - val_loss: 2.6493 - val_accuracy: 0.1692\n",
            "Epoch 8/20\n",
            "18/18 [==============================] - 34s 2s/step - loss: 2.5428 - accuracy: 0.2187 - val_loss: 2.5868 - val_accuracy: 0.2154\n",
            "Epoch 9/20\n",
            "18/18 [==============================] - 33s 2s/step - loss: 2.5346 - accuracy: 0.2328 - val_loss: 2.6135 - val_accuracy: 0.2154\n",
            "Epoch 10/20\n",
            "18/18 [==============================] - 33s 2s/step - loss: 2.4806 - accuracy: 0.2504 - val_loss: 2.4920 - val_accuracy: 0.3077\n",
            "Epoch 11/20\n",
            "18/18 [==============================] - 34s 2s/step - loss: 2.4662 - accuracy: 0.2593 - val_loss: 2.5314 - val_accuracy: 0.2462\n",
            "Epoch 12/20\n",
            "18/18 [==============================] - 34s 2s/step - loss: 2.3765 - accuracy: 0.2628 - val_loss: 2.4364 - val_accuracy: 0.2615\n",
            "Epoch 13/20\n",
            "18/18 [==============================] - 34s 2s/step - loss: 2.3733 - accuracy: 0.2840 - val_loss: 2.5717 - val_accuracy: 0.2769\n",
            "Epoch 14/20\n",
            "18/18 [==============================] - 34s 2s/step - loss: 2.3042 - accuracy: 0.3069 - val_loss: 2.5920 - val_accuracy: 0.1846\n",
            "Epoch 15/20\n",
            "18/18 [==============================] - 34s 2s/step - loss: 2.3141 - accuracy: 0.2998 - val_loss: 2.5387 - val_accuracy: 0.2308\n",
            "Epoch 16/20\n",
            "18/18 [==============================] - 34s 2s/step - loss: 2.2768 - accuracy: 0.2981 - val_loss: 2.5483 - val_accuracy: 0.1846\n",
            "Epoch 17/20\n",
            "18/18 [==============================] - 34s 2s/step - loss: 2.2269 - accuracy: 0.3086 - val_loss: 2.5779 - val_accuracy: 0.2769\n",
            "Epoch 18/20\n",
            "18/18 [==============================] - 34s 2s/step - loss: 2.1824 - accuracy: 0.3245 - val_loss: 2.4075 - val_accuracy: 0.3077\n",
            "Epoch 19/20\n",
            "18/18 [==============================] - 34s 2s/step - loss: 2.1330 - accuracy: 0.3386 - val_loss: 2.6403 - val_accuracy: 0.2462\n",
            "Epoch 20/20\n",
            "18/18 [==============================] - 34s 2s/step - loss: 2.1007 - accuracy: 0.3280 - val_loss: 2.6249 - val_accuracy: 0.2462\n"
          ]
        }
      ],
      "source": [
        "history = model.fit(\n",
        "            trainDS,\n",
        "            validation_data=valDS,\n",
        "            epochs=20\n",
        "          )"
      ]
    },
    {
      "cell_type": "code",
      "execution_count": null,
      "metadata": {
        "colab": {
          "base_uri": "https://localhost:8080/"
        },
        "id": "1wYm14Y9-zmi",
        "outputId": "2537e719-548b-424f-e577-87483e9b907f"
      },
      "outputs": [
        {
          "name": "stdout",
          "output_type": "stream",
          "text": [
            "3/3 [==============================] - 2s 494ms/step - loss: 2.6226 - accuracy: 0.2396\n",
            "Test loss: 2.6225855350494385, Test accuracy: 0.2395833283662796\n"
          ]
        }
      ],
      "source": [
        "loss, accuracy = model.evaluate(testDS)\n",
        "print(f'Test loss: {loss}, Test accuracy: {accuracy}')"
      ]
    },
    {
      "cell_type": "markdown",
      "metadata": {
        "id": "u0FtTLtpPZm4"
      },
      "source": [
        "With the augmented model, the performance was even better compared to previous two. The accuracy is at 0.27 which is most likely the highest is can be. With more configuration, its performance can probably be boosted a slight amount but the implementations run time still takes a considerable amount. Overfitting is definitely still occurring most likely due to an uneven spread of the classified types of the pokemon."
      ]
    },
    {
      "cell_type": "markdown",
      "metadata": {
        "id": "KYGQUkZ8SO-0"
      },
      "source": [
        "**Task 2 (30 points)**:"
      ]
    },
    {
      "cell_type": "markdown",
      "metadata": {
        "id": "-l0oF0ttWr3C"
      },
      "source": [
        "**Part 1 (15 points)**: Variational Autoencoder (VAE): Here is a complete implementation\n",
        "of a VAE in TensorFlow: https://www.tensorflow.org/tutorials/generative/cvae\n",
        "Following these steps try generating images using the same encoder-decoder architecture using\n",
        "a different Image dataset (other than MNIST)."
      ]
    },
    {
      "cell_type": "code",
      "execution_count": null,
      "metadata": {
        "id": "-jCSwk6LXVp7"
      },
      "outputs": [],
      "source": [
        "def preprocess_images(images):\n",
        "  images = images/255.\n",
        "  return np.where(images > .5, 1.0, 0.0).astype('float32')"
      ]
    },
    {
      "cell_type": "code",
      "execution_count": null,
      "metadata": {
        "id": "RBrN3OY6ZAa_"
      },
      "outputs": [],
      "source": [
        "trainImages = np.concatenate([x for x, y in trainDS], axis=0)\n",
        "testImages = np.concatenate([x for x, y in valDS], axis=0)"
      ]
    },
    {
      "cell_type": "code",
      "execution_count": null,
      "metadata": {
        "id": "N0kYRLWkZA43"
      },
      "outputs": [],
      "source": [
        "trainImages = preprocess_images(trainImages)\n",
        "testImages = preprocess_images(testImages)"
      ]
    },
    {
      "cell_type": "code",
      "execution_count": null,
      "metadata": {
        "id": "Z6sucx_TSOKQ"
      },
      "outputs": [],
      "source": [
        "class CVAE(tf.keras.Model):\n",
        "  \"\"\"Convolutional variational autoencoder.\"\"\"\n",
        "\n",
        "  def __init__(self, latent_dim):\n",
        "    super(CVAE, self).__init__()\n",
        "    self.latent_dim = latent_dim\n",
        "    self.encoder = tf.keras.Sequential(\n",
        "        [\n",
        "            tf.keras.layers.InputLayer(input_shape=(size, size, 3)),\n",
        "            tf.keras.layers.Conv2D(\n",
        "                filters=32, kernel_size=3, strides=(2, 2), activation='relu'),\n",
        "            tf.keras.layers.Conv2D(\n",
        "                filters=64, kernel_size=3, strides=(2, 2), activation='relu'),\n",
        "            tf.keras.layers.Flatten(),\n",
        "            # No activation\n",
        "            tf.keras.layers.Dense(latent_dim + latent_dim),\n",
        "        ]\n",
        "    )\n",
        "\n",
        "    self.decoder = tf.keras.Sequential(\n",
        "        [\n",
        "            tf.keras.layers.InputLayer(input_shape=(latent_dim,)),\n",
        "            tf.keras.layers.Dense(units=32**3, activation=tf.nn.relu),\n",
        "            tf.keras.layers.Reshape(target_shape=(32, 32, 32)),\n",
        "            tf.keras.layers.Conv2DTranspose(\n",
        "                filters=64, kernel_size=3, strides=2, padding='same',\n",
        "                activation='relu'),\n",
        "            tf.keras.layers.Conv2DTranspose(\n",
        "                filters=32, kernel_size=3, strides=2, padding='same',\n",
        "                activation='relu'),\n",
        "            # No activation\n",
        "            tf.keras.layers.Conv2DTranspose(\n",
        "                filters=3, kernel_size=3, strides=1, padding='same'),\n",
        "        ]\n",
        "    )\n",
        "\n",
        "  @tf.function\n",
        "  def sample(self, eps=None):\n",
        "    if eps is None:\n",
        "      eps = tf.random.normal(shape=(100, self.latent_dim))\n",
        "    return self.decode(eps, apply_sigmoid=True)\n",
        "\n",
        "  def encode(self, x):\n",
        "    mean, logvar = tf.split(self.encoder(x), num_or_size_splits=2, axis=1)\n",
        "    return mean, logvar\n",
        "\n",
        "  def reparameterize(self, mean, logvar):\n",
        "    eps = tf.random.normal(shape=mean.shape)\n",
        "    return eps * tf.exp(logvar * .5) + mean\n",
        "\n",
        "  def decode(self, z, apply_sigmoid=False):\n",
        "    logits = self.decoder(z)\n",
        "    if apply_sigmoid:\n",
        "      probs = tf.sigmoid(logits)\n",
        "      return probs\n",
        "    return logits"
      ]
    },
    {
      "cell_type": "code",
      "execution_count": null,
      "metadata": {
        "id": "5BZKkh3Ie4a4"
      },
      "outputs": [],
      "source": [
        "optimizer = tf.keras.optimizers.Adam(1e-4)\n",
        "\n",
        "\n",
        "def log_normal_pdf(sample, mean, logvar, raxis=1):\n",
        "  log2pi = tf.math.log(2. * np.pi)\n",
        "  return tf.reduce_sum(\n",
        "      -.5 * ((sample - mean) ** 2. * tf.exp(-logvar) + logvar + log2pi),\n",
        "      axis=raxis)\n",
        "\n",
        "\n",
        "def compute_loss(model, x):\n",
        "  mean, logvar = model.encode(x)\n",
        "  z = model.reparameterize(mean, logvar)\n",
        "  x_logit = model.decode(z)\n",
        "  cross_ent = tf.nn.sigmoid_cross_entropy_with_logits(logits=x_logit, labels=x)\n",
        "  logpx_z = -tf.reduce_sum(cross_ent, axis=[1, 2, 3])\n",
        "  logpz = log_normal_pdf(z, 0., 0.)\n",
        "  logqz_x = log_normal_pdf(z, mean, logvar)\n",
        "  return -tf.reduce_mean(logpx_z + logpz - logqz_x)\n",
        "\n",
        "\n",
        "@tf.function\n",
        "def train_step(model, x, optimizer):\n",
        "  \"\"\"Executes one training step and returns the loss.\n",
        "\n",
        "  This function computes the loss and gradients, and uses the latter to\n",
        "  update the model's parameters.\n",
        "  \"\"\"\n",
        "  with tf.GradientTape() as tape:\n",
        "    loss = compute_loss(model, x)\n",
        "  gradients = tape.gradient(loss, model.trainable_variables)\n",
        "  optimizer.apply_gradients(zip(gradients, model.trainable_variables))"
      ]
    },
    {
      "cell_type": "code",
      "execution_count": null,
      "metadata": {
        "id": "WV7X946rfJpP"
      },
      "outputs": [],
      "source": [
        "epochs = 20\n",
        "latent_dim = 200\n",
        "num_examples_to_generate = 16\n",
        "\n",
        "# keeping the random vector constant for generation (prediction) so\n",
        "# it will be easier to see the improvement.\n",
        "random_vector_for_generation = tf.random.normal(\n",
        "    shape=[num_examples_to_generate, latent_dim])\n",
        "model = CVAE(latent_dim)"
      ]
    },
    {
      "cell_type": "code",
      "execution_count": null,
      "metadata": {
        "id": "KpAzvBQhfXOb"
      },
      "outputs": [],
      "source": [
        "trainSize = 60000\n",
        "batchSize = 32\n",
        "testSize = 10000\n",
        "\n",
        "trainDataset = (tf.data.Dataset.from_tensor_slices(trainImages)\n",
        "                 .shuffle(trainSize).batch(batchSize))\n",
        "testDataset = (tf.data.Dataset.from_tensor_slices(testImages)\n",
        "                .shuffle(testSize).batch(batchSize))"
      ]
    },
    {
      "cell_type": "code",
      "execution_count": null,
      "metadata": {
        "id": "ouf1nJEyfP5S"
      },
      "outputs": [],
      "source": [
        "def generate_and_save_images(model, epoch, test_sample):\n",
        "  mean, logvar = model.encode(test_sample)\n",
        "  z = model.reparameterize(mean, logvar)\n",
        "  predictions = model.sample(z)\n",
        "  fig = plt.figure(figsize=(4, 4))\n",
        "\n",
        "  for i in range(predictions.shape[0]):\n",
        "    plt.subplot(4, 4, i + 1)\n",
        "    plt.imshow(predictions[i, :, :, 0], cmap='gray')\n",
        "    plt.axis('off')\n",
        "\n",
        "  # tight_layout minimizes the overlap between 2 sub-plots\n",
        "  plt.savefig('image_at_epoch_{:04d}.png'.format(epoch))\n",
        "  plt.show()\n",
        "\n",
        "# Pick a sample of the test set for generating output images\n",
        "assert batchSize >= num_examples_to_generate\n",
        "for test_batch in testDataset.take(1):\n",
        "  test_sample = test_batch[0:num_examples_to_generate, :, :, :]"
      ]
    },
    {
      "cell_type": "code",
      "execution_count": null,
      "metadata": {
        "colab": {
          "base_uri": "https://localhost:8080/",
          "height": 265
        },
        "id": "94a13kn6hwSc",
        "outputId": "8b5b674f-735e-405a-c60e-48339a6fa7c1"
      },
      "outputs": [
        {
          "name": "stdout",
          "output_type": "stream",
          "text": [
            "Epoch: 20, Test set ELBO: -12348.4736328125, time elapse for current epoch: 22.467506408691406\n"
          ]
        },
        {
          "data": {
            "image/png": "[encoded data removed]",
            "text/plain": [
              "<Figure size 288x288 with 16 Axes>"
            ]
          },
          "metadata": {
            "needs_background": "light"
          },
          "output_type": "display_data"
        }
      ],
      "source": [
        "import time\n",
        "from IPython import display\n",
        "\n",
        "generate_and_save_images(model, 0, test_sample)\n",
        "\n",
        "for epoch in range(1, epochs + 1):\n",
        "  start_time = time.time()\n",
        "  for train_x in trainDataset:\n",
        "    train_step(model, train_x, optimizer)\n",
        "  end_time = time.time()\n",
        "\n",
        "  loss = tf.keras.metrics.Mean()\n",
        "  for test_x in testDataset:\n",
        "    loss(compute_loss(model, test_x))\n",
        "  elbo = -loss.result()\n",
        "  display.clear_output(wait=False)\n",
        "  print('Epoch: {}, Test set ELBO: {}, time elapse for current epoch: {}'\n",
        "        .format(epoch, elbo, end_time - start_time))\n",
        "  generate_and_save_images(model, epoch, test_sample)"
      ]
    },
    {
      "cell_type": "markdown",
      "metadata": {
        "id": "usH0CRXbW3LK"
      },
      "source": [
        "**Part 2 (15 points)**: Generative Adversarial Networks (GANs): Repeat part 1 (use same\n",
        "dataset) and implement a GAN model to generate high quality synthetic images. You may\n",
        "follow steps outlined here: https://www.tensorflow.org/tutorials/generative/dcgan"
      ]
    },
    {
      "cell_type": "code",
      "execution_count": null,
      "metadata": {
        "id": "c58gPMsdj8iw"
      },
      "outputs": [],
      "source": [
        "images = np.concatenate([image for image, _ in trainDS], axis=0)\n",
        "labels = np.concatenate([label for _, label in trainDS], axis=0)"
      ]
    },
    {
      "cell_type": "code",
      "execution_count": null,
      "metadata": {
        "id": "WmwjIuITkjQN"
      },
      "outputs": [],
      "source": [
        "batchSize = 64"
      ]
    },
    {
      "cell_type": "code",
      "execution_count": null,
      "metadata": {
        "id": "UUmgtoBckmAg"
      },
      "outputs": [],
      "source": []
    }
  ],
  "metadata": {
    "colab": {
      "authorship_tag": "ABX9TyMnaHDgyLqKnmIRWfU8Paup",
      "collapsed_sections": [],
      "include_colab_link": true,
      "provenance": []
    },
    "kernelspec": {
      "display_name": "python36",
      "language": "python",
      "name": "python36"
    },
    "language_info": {
      "codemirror_mode": {
        "name": "ipython",
        "version": 3
      },
      "file_extension": ".py",
      "mimetype": "text/x-python",
      "name": "python",
      "nbconvert_exporter": "python",
      "pygments_lexer": "ipython3",
      "version": "3.6.13"
    }
  },
  "nbformat": 4,
  "nbformat_minor": 0
}
