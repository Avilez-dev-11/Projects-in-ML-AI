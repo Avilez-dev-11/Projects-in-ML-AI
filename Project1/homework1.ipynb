{
  "cells": [
    {
      "cell_type": "markdown",
      "metadata": {
        "colab_type": "text",
        "id": "view-in-github"
      },
      "source": [
        "<a href=\"https://colab.research.google.com/github/Avilez-dev-11/Projects-in-ML-AI/blob/main/homework1.ipynb\" target=\"_parent\"><img src=\"https://colab.research.google.com/assets/colab-badge.svg\" alt=\"Open In Colab\"/></a>"
      ]
    },
    {
      "cell_type": "markdown",
      "metadata": {
        "id": "W_jxKE10igAT"
      },
      "source": [
        "**Task 1 (10 points):** Describe a machine learning problem that you would like to solve using\n",
        "Logistic Regression. Clearly state why Logistic regression is the best choice for solving this\n",
        "problem."
      ]
    },
    {
      "cell_type": "markdown",
      "metadata": {
        "id": "uakPAoCOh-_5"
      },
      "source": [
        "I propose using Logistic Regression to predict the potability of new water samples based on their measured water quality parameters (pH, hardness, etc.). This would inform critical decisions about water treatment and ensure safe drinking water supplies.\n",
        "\n",
        "**Why Logistic Regression is the Best Choice:**\n",
        "\n",
        "1. Binary Classification: Predicting potability (potable or not) is a classic binary classification task, suited for Logistic Regression's strengths.\n",
        "2. Interpretability: Logistic Regression provides interpretable coefficients for each feature, revealing how water quality parameters influence the \"potability\" prediction. This is crucial for understanding which parameters raise concerns and require prioritization in water treatment.\n",
        "3. Robustness to Non-Linear Relationships: Water quality parameters might interact in complex ways to affect potability. Logistic Regression can handle these non-linear relationships through feature engineering techniques.\n",
        "4. Handles Various Data Types: The dataset includes both numerical and categorical features. Logistic Regression can readily handle this mix without requiring complex data transformations.\n",
        "5. Computational Efficiency: Training and applying a Logistic Regression model is relatively efficient, even for large datasets like this one, making it practical for real-world deployment.\n",
        "\n"
      ]
    },
    {
      "cell_type": "markdown",
      "metadata": {
        "id": "-clu5Gk_iveo"
      },
      "source": [
        "**Task 2 (20 points):** Pick a publicly available dataset (except The Titanic Dataset) that you will\n",
        "use to solve this problem. You must provide a link to the dataset and perform the necessary\n",
        "Exploratory Data Analysis (EDA). Clearly demonstrate the steps you follow for your EDA with a\n",
        "justification of why these were required. For example, if the dataset has lot of missing values,\n",
        "then why did you use a specific technique when handling missing data."
      ]
    },
    {
      "cell_type": "code",
      "execution_count": 1,
      "metadata": {
        "colab": {
          "base_uri": "https://localhost:8080/",
          "height": 352
        },
        "id": "yhohss4w-poJ",
        "outputId": "6e7fb359-f0c2-477c-b138-6473c8f7968e"
      },
      "outputs": [
        {
          "data": {
            "text/html": [
              "<div>\n",
              "<style scoped>\n",
              "    .dataframe tbody tr th:only-of-type {\n",
              "        vertical-align: middle;\n",
              "    }\n",
              "\n",
              "    .dataframe tbody tr th {\n",
              "        vertical-align: top;\n",
              "    }\n",
              "\n",
              "    .dataframe thead th {\n",
              "        text-align: right;\n",
              "    }\n",
              "</style>\n",
              "<table border=\"1\" class=\"dataframe\">\n",
              "  <thead>\n",
              "    <tr style=\"text-align: right;\">\n",
              "      <th></th>\n",
              "      <th>ph</th>\n",
              "      <th>Hardness</th>\n",
              "      <th>Solids</th>\n",
              "      <th>Chloramines</th>\n",
              "      <th>Sulfate</th>\n",
              "      <th>Conductivity</th>\n",
              "      <th>Organic_carbon</th>\n",
              "      <th>Trihalomethanes</th>\n",
              "      <th>Turbidity</th>\n",
              "      <th>Potability</th>\n",
              "    </tr>\n",
              "  </thead>\n",
              "  <tbody>\n",
              "    <tr>\n",
              "      <th>0</th>\n",
              "      <td>NaN</td>\n",
              "      <td>204.890455</td>\n",
              "      <td>20791.318981</td>\n",
              "      <td>7.300212</td>\n",
              "      <td>368.516441</td>\n",
              "      <td>564.308654</td>\n",
              "      <td>10.379783</td>\n",
              "      <td>86.990970</td>\n",
              "      <td>2.963135</td>\n",
              "      <td>0</td>\n",
              "    </tr>\n",
              "    <tr>\n",
              "      <th>1</th>\n",
              "      <td>3.716080</td>\n",
              "      <td>129.422921</td>\n",
              "      <td>18630.057858</td>\n",
              "      <td>6.635246</td>\n",
              "      <td>NaN</td>\n",
              "      <td>592.885359</td>\n",
              "      <td>15.180013</td>\n",
              "      <td>56.329076</td>\n",
              "      <td>4.500656</td>\n",
              "      <td>0</td>\n",
              "    </tr>\n",
              "    <tr>\n",
              "      <th>2</th>\n",
              "      <td>8.099124</td>\n",
              "      <td>224.236259</td>\n",
              "      <td>19909.541732</td>\n",
              "      <td>9.275884</td>\n",
              "      <td>NaN</td>\n",
              "      <td>418.606213</td>\n",
              "      <td>16.868637</td>\n",
              "      <td>66.420093</td>\n",
              "      <td>3.055934</td>\n",
              "      <td>0</td>\n",
              "    </tr>\n",
              "    <tr>\n",
              "      <th>3</th>\n",
              "      <td>8.316766</td>\n",
              "      <td>214.373394</td>\n",
              "      <td>22018.417441</td>\n",
              "      <td>8.059332</td>\n",
              "      <td>356.886136</td>\n",
              "      <td>363.266516</td>\n",
              "      <td>18.436524</td>\n",
              "      <td>100.341674</td>\n",
              "      <td>4.628771</td>\n",
              "      <td>0</td>\n",
              "    </tr>\n",
              "    <tr>\n",
              "      <th>4</th>\n",
              "      <td>9.092223</td>\n",
              "      <td>181.101509</td>\n",
              "      <td>17978.986339</td>\n",
              "      <td>6.546600</td>\n",
              "      <td>310.135738</td>\n",
              "      <td>398.410813</td>\n",
              "      <td>11.558279</td>\n",
              "      <td>31.997993</td>\n",
              "      <td>4.075075</td>\n",
              "      <td>0</td>\n",
              "    </tr>\n",
              "    <tr>\n",
              "      <th>5</th>\n",
              "      <td>5.584087</td>\n",
              "      <td>188.313324</td>\n",
              "      <td>28748.687739</td>\n",
              "      <td>7.544869</td>\n",
              "      <td>326.678363</td>\n",
              "      <td>280.467916</td>\n",
              "      <td>8.399735</td>\n",
              "      <td>54.917862</td>\n",
              "      <td>2.559708</td>\n",
              "      <td>0</td>\n",
              "    </tr>\n",
              "    <tr>\n",
              "      <th>6</th>\n",
              "      <td>10.223862</td>\n",
              "      <td>248.071735</td>\n",
              "      <td>28749.716544</td>\n",
              "      <td>7.513408</td>\n",
              "      <td>393.663396</td>\n",
              "      <td>283.651634</td>\n",
              "      <td>13.789695</td>\n",
              "      <td>84.603556</td>\n",
              "      <td>2.672989</td>\n",
              "      <td>0</td>\n",
              "    </tr>\n",
              "    <tr>\n",
              "      <th>7</th>\n",
              "      <td>8.635849</td>\n",
              "      <td>203.361523</td>\n",
              "      <td>13672.091764</td>\n",
              "      <td>4.563009</td>\n",
              "      <td>303.309771</td>\n",
              "      <td>474.607645</td>\n",
              "      <td>12.363817</td>\n",
              "      <td>62.798309</td>\n",
              "      <td>4.401425</td>\n",
              "      <td>0</td>\n",
              "    </tr>\n",
              "    <tr>\n",
              "      <th>8</th>\n",
              "      <td>NaN</td>\n",
              "      <td>118.988579</td>\n",
              "      <td>14285.583854</td>\n",
              "      <td>7.804174</td>\n",
              "      <td>268.646941</td>\n",
              "      <td>389.375566</td>\n",
              "      <td>12.706049</td>\n",
              "      <td>53.928846</td>\n",
              "      <td>3.595017</td>\n",
              "      <td>0</td>\n",
              "    </tr>\n",
              "    <tr>\n",
              "      <th>9</th>\n",
              "      <td>11.180284</td>\n",
              "      <td>227.231469</td>\n",
              "      <td>25484.508491</td>\n",
              "      <td>9.077200</td>\n",
              "      <td>404.041635</td>\n",
              "      <td>563.885481</td>\n",
              "      <td>17.927806</td>\n",
              "      <td>71.976601</td>\n",
              "      <td>4.370562</td>\n",
              "      <td>0</td>\n",
              "    </tr>\n",
              "  </tbody>\n",
              "</table>\n",
              "</div>"
            ],
            "text/plain": [
              "          ph    Hardness        Solids  Chloramines     Sulfate  Conductivity  \\\n",
              "0        NaN  204.890455  20791.318981     7.300212  368.516441    564.308654   \n",
              "1   3.716080  129.422921  18630.057858     6.635246         NaN    592.885359   \n",
              "2   8.099124  224.236259  19909.541732     9.275884         NaN    418.606213   \n",
              "3   8.316766  214.373394  22018.417441     8.059332  356.886136    363.266516   \n",
              "4   9.092223  181.101509  17978.986339     6.546600  310.135738    398.410813   \n",
              "5   5.584087  188.313324  28748.687739     7.544869  326.678363    280.467916   \n",
              "6  10.223862  248.071735  28749.716544     7.513408  393.663396    283.651634   \n",
              "7   8.635849  203.361523  13672.091764     4.563009  303.309771    474.607645   \n",
              "8        NaN  118.988579  14285.583854     7.804174  268.646941    389.375566   \n",
              "9  11.180284  227.231469  25484.508491     9.077200  404.041635    563.885481   \n",
              "\n",
              "   Organic_carbon  Trihalomethanes  Turbidity  Potability  \n",
              "0       10.379783        86.990970   2.963135           0  \n",
              "1       15.180013        56.329076   4.500656           0  \n",
              "2       16.868637        66.420093   3.055934           0  \n",
              "3       18.436524       100.341674   4.628771           0  \n",
              "4       11.558279        31.997993   4.075075           0  \n",
              "5        8.399735        54.917862   2.559708           0  \n",
              "6       13.789695        84.603556   2.672989           0  \n",
              "7       12.363817        62.798309   4.401425           0  \n",
              "8       12.706049        53.928846   3.595017           0  \n",
              "9       17.927806        71.976601   4.370562           0  "
            ]
          },
          "execution_count": 1,
          "metadata": {},
          "output_type": "execute_result"
        }
      ],
      "source": [
        "# DATASET\n",
        "# Link: https://www.kaggle.com/datasets/uom190346a/water-quality-and-potability?resource=download\n",
        "\n",
        "import pandas as pd\n",
        "import matplotlib.pyplot as plt\n",
        "import seaborn as sns\n",
        "import numpy as np\n",
        "from sklearn.impute import SimpleImputer\n",
        "from sklearn.model_selection import train_test_split\n",
        "from sklearn.utils import shuffle\n",
        "\n",
        "df = pd.read_csv(\n",
        "    'Projects_ML_AI/Project1/water_potability.csv', sep=',', header=0)\n",
        "df = df.head(1000)\n",
        "df.head(10)"
      ]
    },
    {
      "cell_type": "markdown",
      "metadata": {
        "id": "OYRPSVEXBJ_J"
      },
      "source": [
        "The data does look organized and in a codition to be parsed. Since it is such a large dataset, let's use just the first 1000 records in the dataframe. To confirm the dataset's usablity, let's check if there are any null values.\n",
        "\n"
      ]
    },
    {
      "cell_type": "code",
      "execution_count": 8,
      "metadata": {
        "colab": {
          "base_uri": "https://localhost:8080/",
          "height": 411
        },
        "id": "AKHWC7B_BRtN",
        "outputId": "a80b6330-9c1a-4972-d849-13e08b61850d"
      },
      "outputs": [
        {
          "data": {
            "text/html": [
              "<div>\n",
              "<style scoped>\n",
              "    .dataframe tbody tr th:only-of-type {\n",
              "        vertical-align: middle;\n",
              "    }\n",
              "\n",
              "    .dataframe tbody tr th {\n",
              "        vertical-align: top;\n",
              "    }\n",
              "\n",
              "    .dataframe thead th {\n",
              "        text-align: right;\n",
              "    }\n",
              "</style>\n",
              "<table border=\"1\" class=\"dataframe\">\n",
              "  <thead>\n",
              "    <tr style=\"text-align: right;\">\n",
              "      <th></th>\n",
              "      <th>ph</th>\n",
              "      <th>Hardness</th>\n",
              "      <th>Solids</th>\n",
              "      <th>Chloramines</th>\n",
              "      <th>Sulfate</th>\n",
              "      <th>Conductivity</th>\n",
              "      <th>Organic_carbon</th>\n",
              "      <th>Trihalomethanes</th>\n",
              "      <th>Turbidity</th>\n",
              "      <th>Potability</th>\n",
              "    </tr>\n",
              "  </thead>\n",
              "  <tbody>\n",
              "    <tr>\n",
              "      <th>0</th>\n",
              "      <td>True</td>\n",
              "      <td>False</td>\n",
              "      <td>False</td>\n",
              "      <td>False</td>\n",
              "      <td>False</td>\n",
              "      <td>False</td>\n",
              "      <td>False</td>\n",
              "      <td>False</td>\n",
              "      <td>False</td>\n",
              "      <td>False</td>\n",
              "    </tr>\n",
              "    <tr>\n",
              "      <th>1</th>\n",
              "      <td>False</td>\n",
              "      <td>False</td>\n",
              "      <td>False</td>\n",
              "      <td>False</td>\n",
              "      <td>True</td>\n",
              "      <td>False</td>\n",
              "      <td>False</td>\n",
              "      <td>False</td>\n",
              "      <td>False</td>\n",
              "      <td>False</td>\n",
              "    </tr>\n",
              "    <tr>\n",
              "      <th>2</th>\n",
              "      <td>False</td>\n",
              "      <td>False</td>\n",
              "      <td>False</td>\n",
              "      <td>False</td>\n",
              "      <td>True</td>\n",
              "      <td>False</td>\n",
              "      <td>False</td>\n",
              "      <td>False</td>\n",
              "      <td>False</td>\n",
              "      <td>False</td>\n",
              "    </tr>\n",
              "    <tr>\n",
              "      <th>3</th>\n",
              "      <td>False</td>\n",
              "      <td>False</td>\n",
              "      <td>False</td>\n",
              "      <td>False</td>\n",
              "      <td>False</td>\n",
              "      <td>False</td>\n",
              "      <td>False</td>\n",
              "      <td>False</td>\n",
              "      <td>False</td>\n",
              "      <td>False</td>\n",
              "    </tr>\n",
              "    <tr>\n",
              "      <th>4</th>\n",
              "      <td>False</td>\n",
              "      <td>False</td>\n",
              "      <td>False</td>\n",
              "      <td>False</td>\n",
              "      <td>False</td>\n",
              "      <td>False</td>\n",
              "      <td>False</td>\n",
              "      <td>False</td>\n",
              "      <td>False</td>\n",
              "      <td>False</td>\n",
              "    </tr>\n",
              "    <tr>\n",
              "      <th>...</th>\n",
              "      <td>...</td>\n",
              "      <td>...</td>\n",
              "      <td>...</td>\n",
              "      <td>...</td>\n",
              "      <td>...</td>\n",
              "      <td>...</td>\n",
              "      <td>...</td>\n",
              "      <td>...</td>\n",
              "      <td>...</td>\n",
              "      <td>...</td>\n",
              "    </tr>\n",
              "    <tr>\n",
              "      <th>995</th>\n",
              "      <td>False</td>\n",
              "      <td>False</td>\n",
              "      <td>False</td>\n",
              "      <td>False</td>\n",
              "      <td>True</td>\n",
              "      <td>False</td>\n",
              "      <td>False</td>\n",
              "      <td>False</td>\n",
              "      <td>False</td>\n",
              "      <td>False</td>\n",
              "    </tr>\n",
              "    <tr>\n",
              "      <th>996</th>\n",
              "      <td>False</td>\n",
              "      <td>False</td>\n",
              "      <td>False</td>\n",
              "      <td>False</td>\n",
              "      <td>False</td>\n",
              "      <td>False</td>\n",
              "      <td>False</td>\n",
              "      <td>False</td>\n",
              "      <td>False</td>\n",
              "      <td>False</td>\n",
              "    </tr>\n",
              "    <tr>\n",
              "      <th>997</th>\n",
              "      <td>False</td>\n",
              "      <td>False</td>\n",
              "      <td>False</td>\n",
              "      <td>False</td>\n",
              "      <td>True</td>\n",
              "      <td>False</td>\n",
              "      <td>False</td>\n",
              "      <td>False</td>\n",
              "      <td>False</td>\n",
              "      <td>False</td>\n",
              "    </tr>\n",
              "    <tr>\n",
              "      <th>998</th>\n",
              "      <td>False</td>\n",
              "      <td>False</td>\n",
              "      <td>False</td>\n",
              "      <td>False</td>\n",
              "      <td>False</td>\n",
              "      <td>False</td>\n",
              "      <td>False</td>\n",
              "      <td>False</td>\n",
              "      <td>False</td>\n",
              "      <td>False</td>\n",
              "    </tr>\n",
              "    <tr>\n",
              "      <th>999</th>\n",
              "      <td>True</td>\n",
              "      <td>False</td>\n",
              "      <td>False</td>\n",
              "      <td>False</td>\n",
              "      <td>False</td>\n",
              "      <td>False</td>\n",
              "      <td>False</td>\n",
              "      <td>False</td>\n",
              "      <td>False</td>\n",
              "      <td>False</td>\n",
              "    </tr>\n",
              "  </tbody>\n",
              "</table>\n",
              "<p>1000 rows × 10 columns</p>\n",
              "</div>"
            ],
            "text/plain": [
              "        ph  Hardness  Solids  Chloramines  Sulfate  Conductivity  \\\n",
              "0     True     False   False        False    False         False   \n",
              "1    False     False   False        False     True         False   \n",
              "2    False     False   False        False     True         False   \n",
              "3    False     False   False        False    False         False   \n",
              "4    False     False   False        False    False         False   \n",
              "..     ...       ...     ...          ...      ...           ...   \n",
              "995  False     False   False        False     True         False   \n",
              "996  False     False   False        False    False         False   \n",
              "997  False     False   False        False     True         False   \n",
              "998  False     False   False        False    False         False   \n",
              "999   True     False   False        False    False         False   \n",
              "\n",
              "     Organic_carbon  Trihalomethanes  Turbidity  Potability  \n",
              "0             False            False      False       False  \n",
              "1             False            False      False       False  \n",
              "2             False            False      False       False  \n",
              "3             False            False      False       False  \n",
              "4             False            False      False       False  \n",
              "..              ...              ...        ...         ...  \n",
              "995           False            False      False       False  \n",
              "996           False            False      False       False  \n",
              "997           False            False      False       False  \n",
              "998           False            False      False       False  \n",
              "999           False            False      False       False  \n",
              "\n",
              "[1000 rows x 10 columns]"
            ]
          },
          "execution_count": 8,
          "metadata": {},
          "output_type": "execute_result"
        }
      ],
      "source": [
        "df.isna()"
      ]
    },
    {
      "cell_type": "markdown",
      "metadata": {
        "id": "dAqz9IvMjYax"
      },
      "source": [
        "There exists null values in the data set. Let's see a sum of the null values for further exploration.\n"
      ]
    },
    {
      "cell_type": "code",
      "execution_count": 9,
      "metadata": {
        "colab": {
          "base_uri": "https://localhost:8080/"
        },
        "id": "2c9pFEKBBvW6",
        "outputId": "2e4d4312-81a6-441b-9478-732ec1c1e486"
      },
      "outputs": [
        {
          "data": {
            "text/plain": [
              "ph                 148\n",
              "Hardness             0\n",
              "Solids               0\n",
              "Chloramines          0\n",
              "Sulfate            244\n",
              "Conductivity         0\n",
              "Organic_carbon       0\n",
              "Trihalomethanes     51\n",
              "Turbidity            0\n",
              "Potability           0\n",
              "dtype: int64"
            ]
          },
          "execution_count": 9,
          "metadata": {},
          "output_type": "execute_result"
        }
      ],
      "source": [
        "df.isnull().sum()"
      ]
    },
    {
      "cell_type": "markdown",
      "metadata": {
        "id": "nqvYEkFKjcSo"
      },
      "source": [
        "To better visualize these null values we can check if there is a possible correlation to data retrieval or if null values are scattered at random by creating a missingness heatmap."
      ]
    },
    {
      "cell_type": "code",
      "execution_count": 10,
      "metadata": {
        "colab": {
          "base_uri": "https://localhost:8080/",
          "height": 587
        },
        "id": "AyCl1E72MD7f",
        "outputId": "0fa83807-38fc-4cf0-8875-872baad833c4"
      },
      "outputs": [
        {
          "data": {
            "image/png": "[encoded data removed]",
            "text/plain": [
              "<Figure size 720x360 with 1 Axes>"
            ]
          },
          "metadata": {
            "needs_background": "light"
          },
          "output_type": "display_data"
        }
      ],
      "source": [
        "missing_matrix = df.isnull()\n",
        "plt.figure(figsize=(10, 5))\n",
        "sns.heatmap(missing_matrix, cmap='viridis', cbar=False)\n",
        "plt.xlabel('Features')\n",
        "plt.ylabel('Samples')\n",
        "plt.title('Missingness Heatmap')\n",
        "plt.show()"
      ]
    },
    {
      "cell_type": "markdown",
      "metadata": {
        "id": "Cwi4qCEFmNtX"
      },
      "source": [
        "We can also compare missingness patterns for potable and non-potable samples. By creating a bar graph we can also see how missing values are spread throughout different features."
      ]
    },
    {
      "cell_type": "code",
      "execution_count": 11,
      "metadata": {
        "colab": {
          "base_uri": "https://localhost:8080/",
          "height": 631
        },
        "id": "iQQpA98qYIzD",
        "outputId": "b9f65281-90cc-4848-97d1-f9d64bf01445"
      },
      "outputs": [
        {
          "name": "stdout",
          "output_type": "stream",
          "text": [
            "             ph  Hardness  Solids  Chloramines  Sulfate  Conductivity  \\\n",
            "Potability                                                              \n",
            "0           108         0       0            0      166             0   \n",
            "1            40         0       0            0       78             0   \n",
            "\n",
            "            Organic_carbon  Trihalomethanes  Turbidity  Potability  \n",
            "Potability                                                          \n",
            "0                        0               36          0           0  \n",
            "1                        0               15          0           0   \n",
            "\n"
          ]
        },
        {
          "data": {
            "image/png": "[encoded data removed]",
            "text/plain": [
              "<Figure size 432x288 with 1 Axes>"
            ]
          },
          "metadata": {
            "needs_background": "light"
          },
          "output_type": "display_data"
        }
      ],
      "source": [
        "missing_by_potability = df.groupby('Potability').apply(lambda x: x.isnull().sum())\n",
        "print(missing_by_potability,'\\n')\n",
        "missing_by_potability.plot(kind='bar', stacked=True)\n",
        "plt.title('Missing Value Counts by Potability')\n",
        "plt.xlabel('Features')\n",
        "plt.ylabel('Missing Value Counts')\n",
        "plt.legend( title='Potability')\n",
        "plt.show()"
      ]
    },
    {
      "cell_type": "markdown",
      "metadata": {
        "id": "CF4NiXsKkYSt"
      },
      "source": [
        "I will create a correlation hashmap to show the correlation of values including the null values in the dataset after filling in the missing values using imputation. I will then compare the correlation of the data set after deleting these null values. The imputation will utilize the sklearn SimpleImputer function to fill null values with the mean values."
      ]
    },
    {
      "cell_type": "code",
      "execution_count": 12,
      "metadata": {
        "colab": {
          "base_uri": "https://localhost:8080/",
          "height": 291
        },
        "id": "j6mAHC-ujK2b",
        "outputId": "a83f8087-69e3-49a5-c23d-49550d2ea855"
      },
      "outputs": [
        {
          "data": {
            "text/html": [
              "<div>\n",
              "<style scoped>\n",
              "    .dataframe tbody tr th:only-of-type {\n",
              "        vertical-align: middle;\n",
              "    }\n",
              "\n",
              "    .dataframe tbody tr th {\n",
              "        vertical-align: top;\n",
              "    }\n",
              "\n",
              "    .dataframe thead th {\n",
              "        text-align: right;\n",
              "    }\n",
              "</style>\n",
              "<table border=\"1\" class=\"dataframe\">\n",
              "  <thead>\n",
              "    <tr style=\"text-align: right;\">\n",
              "      <th></th>\n",
              "      <th>ph</th>\n",
              "      <th>Hardness</th>\n",
              "      <th>Solids</th>\n",
              "      <th>Chloramines</th>\n",
              "      <th>Sulfate</th>\n",
              "      <th>Conductivity</th>\n",
              "      <th>Organic_carbon</th>\n",
              "      <th>Trihalomethanes</th>\n",
              "      <th>Turbidity</th>\n",
              "      <th>Potability</th>\n",
              "    </tr>\n",
              "  </thead>\n",
              "  <tbody>\n",
              "    <tr>\n",
              "      <th>count</th>\n",
              "      <td>852.000000</td>\n",
              "      <td>1000.000000</td>\n",
              "      <td>1000.000000</td>\n",
              "      <td>1000.000000</td>\n",
              "      <td>756.000000</td>\n",
              "      <td>1000.000000</td>\n",
              "      <td>1000.000000</td>\n",
              "      <td>949.000000</td>\n",
              "      <td>1000.000000</td>\n",
              "      <td>1000.00000</td>\n",
              "    </tr>\n",
              "    <tr>\n",
              "      <th>mean</th>\n",
              "      <td>7.090917</td>\n",
              "      <td>198.346614</td>\n",
              "      <td>21869.379604</td>\n",
              "      <td>7.157972</td>\n",
              "      <td>331.052730</td>\n",
              "      <td>428.205129</td>\n",
              "      <td>14.236451</td>\n",
              "      <td>66.266584</td>\n",
              "      <td>3.972724</td>\n",
              "      <td>0.32000</td>\n",
              "    </tr>\n",
              "    <tr>\n",
              "      <th>std</th>\n",
              "      <td>1.693655</td>\n",
              "      <td>33.532475</td>\n",
              "      <td>8813.426951</td>\n",
              "      <td>1.737552</td>\n",
              "      <td>38.334063</td>\n",
              "      <td>79.785967</td>\n",
              "      <td>3.270311</td>\n",
              "      <td>15.992789</td>\n",
              "      <td>0.796966</td>\n",
              "      <td>0.46671</td>\n",
              "    </tr>\n",
              "    <tr>\n",
              "      <th>min</th>\n",
              "      <td>0.227499</td>\n",
              "      <td>47.432000</td>\n",
              "      <td>2552.962804</td>\n",
              "      <td>0.530351</td>\n",
              "      <td>180.206746</td>\n",
              "      <td>210.319182</td>\n",
              "      <td>2.200000</td>\n",
              "      <td>8.175876</td>\n",
              "      <td>1.680554</td>\n",
              "      <td>0.00000</td>\n",
              "    </tr>\n",
              "    <tr>\n",
              "      <th>25%</th>\n",
              "      <td>5.969027</td>\n",
              "      <td>179.577977</td>\n",
              "      <td>15248.997191</td>\n",
              "      <td>6.044716</td>\n",
              "      <td>310.061486</td>\n",
              "      <td>369.582345</td>\n",
              "      <td>11.961309</td>\n",
              "      <td>56.420210</td>\n",
              "      <td>3.439168</td>\n",
              "      <td>0.00000</td>\n",
              "    </tr>\n",
              "    <tr>\n",
              "      <th>50%</th>\n",
              "      <td>7.024129</td>\n",
              "      <td>199.591629</td>\n",
              "      <td>20919.651498</td>\n",
              "      <td>7.178410</td>\n",
              "      <td>331.087936</td>\n",
              "      <td>424.274922</td>\n",
              "      <td>14.212209</td>\n",
              "      <td>66.084174</td>\n",
              "      <td>3.962104</td>\n",
              "      <td>0.00000</td>\n",
              "    </tr>\n",
              "    <tr>\n",
              "      <th>75%</th>\n",
              "      <td>8.163736</td>\n",
              "      <td>217.689981</td>\n",
              "      <td>27389.201831</td>\n",
              "      <td>8.349810</td>\n",
              "      <td>352.689928</td>\n",
              "      <td>481.792304</td>\n",
              "      <td>16.519916</td>\n",
              "      <td>77.360985</td>\n",
              "      <td>4.519522</td>\n",
              "      <td>1.00000</td>\n",
              "    </tr>\n",
              "    <tr>\n",
              "      <th>max</th>\n",
              "      <td>13.175402</td>\n",
              "      <td>323.124000</td>\n",
              "      <td>52318.917298</td>\n",
              "      <td>13.127000</td>\n",
              "      <td>445.938391</td>\n",
              "      <td>695.369528</td>\n",
              "      <td>23.917601</td>\n",
              "      <td>120.030077</td>\n",
              "      <td>6.739000</td>\n",
              "      <td>1.00000</td>\n",
              "    </tr>\n",
              "  </tbody>\n",
              "</table>\n",
              "</div>"
            ],
            "text/plain": [
              "               ph     Hardness        Solids  Chloramines     Sulfate  \\\n",
              "count  852.000000  1000.000000   1000.000000  1000.000000  756.000000   \n",
              "mean     7.090917   198.346614  21869.379604     7.157972  331.052730   \n",
              "std      1.693655    33.532475   8813.426951     1.737552   38.334063   \n",
              "min      0.227499    47.432000   2552.962804     0.530351  180.206746   \n",
              "25%      5.969027   179.577977  15248.997191     6.044716  310.061486   \n",
              "50%      7.024129   199.591629  20919.651498     7.178410  331.087936   \n",
              "75%      8.163736   217.689981  27389.201831     8.349810  352.689928   \n",
              "max     13.175402   323.124000  52318.917298    13.127000  445.938391   \n",
              "\n",
              "       Conductivity  Organic_carbon  Trihalomethanes    Turbidity  Potability  \n",
              "count   1000.000000     1000.000000       949.000000  1000.000000  1000.00000  \n",
              "mean     428.205129       14.236451        66.266584     3.972724     0.32000  \n",
              "std       79.785967        3.270311        15.992789     0.796966     0.46671  \n",
              "min      210.319182        2.200000         8.175876     1.680554     0.00000  \n",
              "25%      369.582345       11.961309        56.420210     3.439168     0.00000  \n",
              "50%      424.274922       14.212209        66.084174     3.962104     0.00000  \n",
              "75%      481.792304       16.519916        77.360985     4.519522     1.00000  \n",
              "max      695.369528       23.917601       120.030077     6.739000     1.00000  "
            ]
          },
          "execution_count": 12,
          "metadata": {},
          "output_type": "execute_result"
        }
      ],
      "source": [
        "orig_df = df\n",
        "# Create imputer with mean strategy\n",
        "imputer = SimpleImputer(strategy='mean')\n",
        "\n",
        "# Fit imputer to data\n",
        "imputer.fit(df)\n",
        "\n",
        "# Transform data with imputation\n",
        "df_imputed = pd.DataFrame(imputer.transform(df), columns=df.columns)\n",
        "df.describe()"
      ]
    },
    {
      "cell_type": "code",
      "execution_count": 13,
      "metadata": {
        "colab": {
          "base_uri": "https://localhost:8080/",
          "height": 952
        },
        "id": "Wi-Wczq_rFOw",
        "outputId": "2351b0b3-ac06-4dc7-d3b3-20b745f5f9bc"
      },
      "outputs": [
        {
          "data": {
            "image/png": "[encoded data removed]",
            "text/plain": [
              "<Figure size 720x720 with 2 Axes>"
            ]
          },
          "metadata": {
            "needs_background": "light"
          },
          "output_type": "display_data"
        }
      ],
      "source": [
        "corr = df.corr()\n",
        "sns.heatmap(corr, annot=True, ax=plt.subplots(figsize=(10,10))[1])\n",
        "plt.title('Correlation Heatmap')\n",
        "plt.show()"
      ]
    },
    {
      "cell_type": "code",
      "execution_count": 14,
      "metadata": {
        "colab": {
          "base_uri": "https://localhost:8080/"
        },
        "id": "C5stgR3yCD5C",
        "outputId": "a3b7908b-b2e0-4e18-8b02-8ea08c91f9b3"
      },
      "outputs": [
        {
          "data": {
            "text/plain": [
              "Potability         1.000000\n",
              "Chloramines        0.076190\n",
              "Trihalomethanes    0.054369\n",
              "Solids             0.015551\n",
              "Hardness           0.013833\n",
              "ph                 0.013499\n",
              "Turbidity          0.010523\n",
              "Conductivity      -0.015633\n",
              "Organic_carbon    -0.025391\n",
              "Sulfate           -0.072358\n",
              "Name: Potability, dtype: float64"
            ]
          },
          "execution_count": 14,
          "metadata": {},
          "output_type": "execute_result"
        }
      ],
      "source": [
        "# feature correlation with target variable\n",
        "df.corr()['Potability'].sort_values(ascending=False)"
      ]
    },
    {
      "cell_type": "markdown",
      "metadata": {
        "id": "s8wzaCLfVt7h"
      },
      "source": [
        "**Examination**\n",
        "\n",
        "The correlations between features and water potability are generally weak, with the strongest positive correlation found between chloramines and potability (0.076). This suggests that higher levels of chloramines might be slightly associated with increased water potability. Other features with weak positive correlations include trihalomethanes, solids, hardness, and pH, while turbidity, conductivity, organic carbon, and sulfate have weak negative correlations. Notably, sulfate has the strongest negative correlation (-0.072), suggesting a potential link between higher sulfate levels and decreased potability. The overall lack of strong correlations highlights the complexity of factors influencing water potability\n"
      ]
    },
    {
      "cell_type": "markdown",
      "metadata": {
        "id": "3FvcSlWkj8it"
      },
      "source": [
        "Now we must drop all the null values.\n",
        "\n"
      ]
    },
    {
      "cell_type": "code",
      "execution_count": 15,
      "metadata": {
        "colab": {
          "base_uri": "https://localhost:8080/",
          "height": 291
        },
        "id": "95wF2ehEcDby",
        "outputId": "e3dd7cf5-e9b5-4ec2-c293-e7b8b87aed9f"
      },
      "outputs": [
        {
          "data": {
            "text/html": [
              "<div>\n",
              "<style scoped>\n",
              "    .dataframe tbody tr th:only-of-type {\n",
              "        vertical-align: middle;\n",
              "    }\n",
              "\n",
              "    .dataframe tbody tr th {\n",
              "        vertical-align: top;\n",
              "    }\n",
              "\n",
              "    .dataframe thead th {\n",
              "        text-align: right;\n",
              "    }\n",
              "</style>\n",
              "<table border=\"1\" class=\"dataframe\">\n",
              "  <thead>\n",
              "    <tr style=\"text-align: right;\">\n",
              "      <th></th>\n",
              "      <th>ph</th>\n",
              "      <th>Hardness</th>\n",
              "      <th>Solids</th>\n",
              "      <th>Chloramines</th>\n",
              "      <th>Sulfate</th>\n",
              "      <th>Conductivity</th>\n",
              "      <th>Organic_carbon</th>\n",
              "      <th>Trihalomethanes</th>\n",
              "      <th>Turbidity</th>\n",
              "      <th>Potability</th>\n",
              "    </tr>\n",
              "  </thead>\n",
              "  <tbody>\n",
              "    <tr>\n",
              "      <th>count</th>\n",
              "      <td>616.000000</td>\n",
              "      <td>616.000000</td>\n",
              "      <td>616.000000</td>\n",
              "      <td>616.000000</td>\n",
              "      <td>616.000000</td>\n",
              "      <td>616.000000</td>\n",
              "      <td>616.000000</td>\n",
              "      <td>616.000000</td>\n",
              "      <td>616.000000</td>\n",
              "      <td>616.000000</td>\n",
              "    </tr>\n",
              "    <tr>\n",
              "      <th>mean</th>\n",
              "      <td>7.167605</td>\n",
              "      <td>196.673199</td>\n",
              "      <td>22040.328894</td>\n",
              "      <td>7.212473</td>\n",
              "      <td>330.707666</td>\n",
              "      <td>430.464206</td>\n",
              "      <td>14.263264</td>\n",
              "      <td>66.465140</td>\n",
              "      <td>3.952042</td>\n",
              "      <td>0.326299</td>\n",
              "    </tr>\n",
              "    <tr>\n",
              "      <th>std</th>\n",
              "      <td>1.663299</td>\n",
              "      <td>32.384548</td>\n",
              "      <td>8658.148361</td>\n",
              "      <td>1.734834</td>\n",
              "      <td>38.398681</td>\n",
              "      <td>80.666754</td>\n",
              "      <td>3.312189</td>\n",
              "      <td>15.764388</td>\n",
              "      <td>0.789394</td>\n",
              "      <td>0.469239</td>\n",
              "    </tr>\n",
              "    <tr>\n",
              "      <th>min</th>\n",
              "      <td>0.227499</td>\n",
              "      <td>73.492234</td>\n",
              "      <td>2552.962804</td>\n",
              "      <td>2.484380</td>\n",
              "      <td>180.206746</td>\n",
              "      <td>210.319182</td>\n",
              "      <td>2.200000</td>\n",
              "      <td>17.915723</td>\n",
              "      <td>1.680554</td>\n",
              "      <td>0.000000</td>\n",
              "    </tr>\n",
              "    <tr>\n",
              "      <th>25%</th>\n",
              "      <td>6.104344</td>\n",
              "      <td>178.178468</td>\n",
              "      <td>15533.643920</td>\n",
              "      <td>6.044716</td>\n",
              "      <td>310.695333</td>\n",
              "      <td>369.952800</td>\n",
              "      <td>12.025919</td>\n",
              "      <td>56.945270</td>\n",
              "      <td>3.418093</td>\n",
              "      <td>0.000000</td>\n",
              "    </tr>\n",
              "    <tr>\n",
              "      <th>50%</th>\n",
              "      <td>7.084974</td>\n",
              "      <td>198.995381</td>\n",
              "      <td>21186.012849</td>\n",
              "      <td>7.250302</td>\n",
              "      <td>330.376244</td>\n",
              "      <td>426.590479</td>\n",
              "      <td>14.304365</td>\n",
              "      <td>65.714178</td>\n",
              "      <td>3.943715</td>\n",
              "      <td>0.000000</td>\n",
              "    </tr>\n",
              "    <tr>\n",
              "      <th>75%</th>\n",
              "      <td>8.238908</td>\n",
              "      <td>214.404198</td>\n",
              "      <td>27655.525663</td>\n",
              "      <td>8.389917</td>\n",
              "      <td>352.336049</td>\n",
              "      <td>488.182538</td>\n",
              "      <td>16.564723</td>\n",
              "      <td>77.676847</td>\n",
              "      <td>4.522686</td>\n",
              "      <td>1.000000</td>\n",
              "    </tr>\n",
              "    <tr>\n",
              "      <th>max</th>\n",
              "      <td>11.898078</td>\n",
              "      <td>300.292476</td>\n",
              "      <td>49074.730407</td>\n",
              "      <td>13.127000</td>\n",
              "      <td>445.938391</td>\n",
              "      <td>695.369528</td>\n",
              "      <td>23.917601</td>\n",
              "      <td>120.030077</td>\n",
              "      <td>6.494249</td>\n",
              "      <td>1.000000</td>\n",
              "    </tr>\n",
              "  </tbody>\n",
              "</table>\n",
              "</div>"
            ],
            "text/plain": [
              "               ph    Hardness        Solids  Chloramines     Sulfate  \\\n",
              "count  616.000000  616.000000    616.000000   616.000000  616.000000   \n",
              "mean     7.167605  196.673199  22040.328894     7.212473  330.707666   \n",
              "std      1.663299   32.384548   8658.148361     1.734834   38.398681   \n",
              "min      0.227499   73.492234   2552.962804     2.484380  180.206746   \n",
              "25%      6.104344  178.178468  15533.643920     6.044716  310.695333   \n",
              "50%      7.084974  198.995381  21186.012849     7.250302  330.376244   \n",
              "75%      8.238908  214.404198  27655.525663     8.389917  352.336049   \n",
              "max     11.898078  300.292476  49074.730407    13.127000  445.938391   \n",
              "\n",
              "       Conductivity  Organic_carbon  Trihalomethanes   Turbidity  Potability  \n",
              "count    616.000000      616.000000       616.000000  616.000000  616.000000  \n",
              "mean     430.464206       14.263264        66.465140    3.952042    0.326299  \n",
              "std       80.666754        3.312189        15.764388    0.789394    0.469239  \n",
              "min      210.319182        2.200000        17.915723    1.680554    0.000000  \n",
              "25%      369.952800       12.025919        56.945270    3.418093    0.000000  \n",
              "50%      426.590479       14.304365        65.714178    3.943715    0.000000  \n",
              "75%      488.182538       16.564723        77.676847    4.522686    1.000000  \n",
              "max      695.369528       23.917601       120.030077    6.494249    1.000000  "
            ]
          },
          "execution_count": 15,
          "metadata": {},
          "output_type": "execute_result"
        }
      ],
      "source": [
        "new_df = orig_df\n",
        "new_df.dropna(inplace=True)\n",
        "new_df.describe()"
      ]
    },
    {
      "cell_type": "markdown",
      "metadata": {
        "id": "yFl5G1U5rJaO"
      },
      "source": [
        "Below we will use this new data frame to illustrate the correlation after removing the null values."
      ]
    },
    {
      "cell_type": "code",
      "execution_count": 16,
      "metadata": {
        "colab": {
          "base_uri": "https://localhost:8080/",
          "height": 952
        },
        "id": "Pi2itEY0j569",
        "outputId": "4d2c6a24-2a9b-4521-9e4f-d0a179689e60"
      },
      "outputs": [
        {
          "data": {
            "image/png": "[encoded data removed]",
            "text/plain": [
              "<Figure size 720x720 with 2 Axes>"
            ]
          },
          "metadata": {
            "needs_background": "light"
          },
          "output_type": "display_data"
        }
      ],
      "source": [
        "corr = new_df.corr()\n",
        "sns.heatmap(corr, annot=True, ax=plt.subplots(figsize=(10,10))[1])\n",
        "plt.title('Correlation Heatmap')\n",
        "plt.show()"
      ]
    },
    {
      "cell_type": "code",
      "execution_count": 17,
      "metadata": {
        "colab": {
          "base_uri": "https://localhost:8080/"
        },
        "id": "h_zQ65OECYey",
        "outputId": "355267ab-3464-4e3f-afee-2590b8220434"
      },
      "outputs": [
        {
          "data": {
            "text/plain": [
              "Potability         1.000000\n",
              "Chloramines        0.115887\n",
              "Trihalomethanes    0.070044\n",
              "ph                 0.065917\n",
              "Turbidity          0.040188\n",
              "Solids             0.017962\n",
              "Hardness           0.005584\n",
              "Organic_carbon    -0.016870\n",
              "Conductivity      -0.038059\n",
              "Sulfate           -0.088255\n",
              "Name: Potability, dtype: float64"
            ]
          },
          "execution_count": 17,
          "metadata": {},
          "output_type": "execute_result"
        }
      ],
      "source": [
        "# feature correlation with target variable\n",
        "new_df.corr()['Potability'].sort_values(ascending=False)"
      ]
    },
    {
      "cell_type": "markdown",
      "metadata": {
        "id": "sSo_vGAEG7GQ"
      },
      "source": [
        "**Examination**\n",
        "\n",
        "The correlations between features and water potability remain generally weak, but some notable shifts have occurred. The strongest positive correlation is now observed with chloramines (0.116), suggesting a slightly stronger association than previously observed. pH has also emerged as a moderately positively correlated feature (0.066), potentially indicating a more significant role in water potability. However, sulfate maintains the strongest negative correlation (-0.088), further reinforcing the potential link between higher sulfate levels and decreased potability."
      ]
    },
    {
      "cell_type": "markdown",
      "metadata": {
        "id": "_O2tHKlJjHOK"
      },
      "source": [
        "**Analysis**\n",
        "\n",
        "Comparing imputation and deletion for missing values in a water potability dataset showed subtle shifts in correlations with the target. While both approaches revealed moderate positive correlations with chloramines and negative with sulfate, imputation strengthened associations with features like pH and turbidity, suggesting relationships masked by missingness. Imputation might offer richer data but potentially introduce bias, while deletion simplifies analysis but risks information loss. Choosing the optimal strategy depends on specific research goals and careful evaluation of data patterns and model performance.\n"
      ]
    },
    {
      "cell_type": "markdown",
      "metadata": {
        "id": "1ECDD1jFi3-o"
      },
      "source": [
        "**Task 3 (25 points):** Implement, Logistic Regression in this step. Clearly write your cost function\n",
        "and derivatives before implementing gradient descent. Do not use any built-in packages for this\n",
        "step. You can use the vectorization techniques demonstrated in class. Implement any 2 variants\n",
        "of gradient descent in their original form."
      ]
    },
    {
      "cell_type": "code",
      "execution_count": 18,
      "metadata": {
        "id": "-81H-ivq5ffl"
      },
      "outputs": [],
      "source": [
        "np.random.seed(0)\n",
        "\n",
        "# Sigmoid function\n",
        "def sigmoid(z):\n",
        "    return 1 / (1 + np.exp(-z))\n",
        "\n",
        "# Loss function\n",
        "def cost_function(X, y, W, B):\n",
        "    m = len(y)\n",
        "    Z = np.dot(X, W) + B  # Calculate linear combination directly\n",
        "    h = sigmoid(Z)  # Apply sigmoid activation\n",
        "    J = -1/m * (y.T @ np.log(h) + (1-y).T @ np.log(1-h))\n",
        "    return J\n",
        "\n",
        "# Prediction function\n",
        "def predict(X, W, B):\n",
        "    Z = np.dot(X, W) + B\n",
        "    A = sigmoid(Z)\n",
        "    return [1 if _ < 0.5 else 0 for _ in A]\n",
        "\n",
        "# Gradients helper function to update weights and bias\n",
        "def gradients(X, y, W, B):\n",
        "    m = len(y)\n",
        "    Z = np.dot(X, W) + B\n",
        "    h = sigmoid(Z)\n",
        "    dZ = h - y\n",
        "    dW = 1/m * X.T @ dZ\n",
        "    dB = 1/m * np.sum(dZ)\n",
        "    return dW, dB\n",
        "\n",
        "# Batch Gradient Descent Function\n",
        "def batch_gradient_descent(X, y, W, B, alpha, num_iterations):\n",
        "    for i in range(num_iterations):\n",
        "        dW, dB = gradients(X, y, W, B)\n",
        "        W = W - alpha * dW\n",
        "        B = B - alpha * dB\n",
        "    return W, B\n",
        "\n",
        "# Stochastic Gradient Descent Function\n",
        "def stochastic_gradient_descent(X, y, W, B, alpha, num_iterations):\n",
        "    m = len(y)\n",
        "    for i in range(num_iterations):\n",
        "        for j in range(m):\n",
        "            rand_index = np.random.randint(0, m)\n",
        "            xi = X[rand_index, :]\n",
        "            yi = y[rand_index]\n",
        "            dW, dB = gradients(xi.reshape(1, -1), yi.reshape(1, -1), W, B)\n",
        "            W = W - alpha * dW\n",
        "            B = B - alpha * dB\n",
        "    return W, B\n",
        "\n",
        "def LRModel(X, Y, gradientType, size=None, epochs=1000, learningRate=0.0001):\n",
        "  s = X.shape\n",
        "  w = np.random.rand(s[1], 1) # weight\n",
        "  b = np.random.randint(-1, 2)\n",
        "  Y = Y.reshape(s[0], 1)\n",
        "\n",
        "  losses = list()\n",
        "\n",
        "  if gradientType == \"bgd\": # Gradient Descent\n",
        "    w,b = batch_gradient_descent(X, Y, w, b, learningRate, epochs)\n",
        "  elif gradientType == \"sgd\": # Stochastic Gradient Desecent\n",
        "    w,b = stochastic_gradient_descent(X, Y, w, b, learningRate, epochs)\n",
        "\n",
        "   # Calculate final loss using cost_function\n",
        "  losses.append(cost_function(X, Y, w, b))\n",
        "\n",
        "  return w, b, losses"
      ]
    },
    {
      "cell_type": "code",
      "execution_count": 19,
      "metadata": {
        "id": "6sR-m1lgzOi9"
      },
      "outputs": [],
      "source": [
        "# Original df with null values imputed\n",
        "og_df_copy = orig_df.copy()\n",
        "X1 = og_df_copy.to_numpy()\n",
        "Y1 = og_df_copy.pop(\"Potability\").values\n",
        "X1_train, X1_test, Y1_train, Y1_test = train_test_split(X1, Y1, train_size = 0.9, test_size = 0.1)\n",
        "\n",
        "# Modified df with null values deleted\n",
        "df_copy = new_df.copy()\n",
        "X = df_copy.to_numpy()\n",
        "Y = df_copy.pop(\"Potability\").values\n",
        "X_train, X_test, Y_train, Y_test = train_test_split(X, Y, train_size = 0.9, test_size = 0.1)"
      ]
    },
    {
      "cell_type": "code",
      "execution_count": 20,
      "metadata": {
        "colab": {
          "base_uri": "https://localhost:8080/"
        },
        "id": "UAt9lkFv-t6w",
        "outputId": "6c6d1e61-5a7a-419f-e779-8fe96051cb84"
      },
      "outputs": [
        {
          "name": "stdout",
          "output_type": "stream",
          "text": [
            "Batch Gradient Descent Imputed Accuracy: 0.5645161290322581\n",
            "Batch Gradient Descent Deleted Accuracy: 0.6774193548387096\n"
          ]
        },
        {
          "name": "stderr",
          "output_type": "stream",
          "text": [
            "/home/avilez/.conda/envs/avilez-py36/lib/python3.6/site-packages/ipykernel_launcher.py:5: RuntimeWarning: overflow encountered in exp\n",
            "  \"\"\"\n",
            "/home/avilez/.conda/envs/avilez-py36/lib/python3.6/site-packages/ipykernel_launcher.py:12: RuntimeWarning: divide by zero encountered in log\n",
            "  if sys.path[0] == '':\n",
            "/home/avilez/.conda/envs/avilez-py36/lib/python3.6/site-packages/ipykernel_launcher.py:12: RuntimeWarning: invalid value encountered in matmul\n",
            "  if sys.path[0] == '':\n"
          ]
        }
      ],
      "source": [
        "# Batch Gradient Descent\n",
        "\n",
        "# imputed\n",
        "w1, b1, losses1 = LRModel(X1_train, Y1_train, \"bgd\")\n",
        "predictions = predict(X1_test, w1, b1)\n",
        "print(\"Batch Gradient Descent Imputed Accuracy: {}\".format(np.sum(Y1_test == predictions)/len(Y1_test)))\n",
        "\n",
        "# deleted\n",
        "w, b, losses = LRModel(X_train, Y_train, \"bgd\")\n",
        "predictions = predict(X_test, w, b)\n",
        "print(\"Batch Gradient Descent Deleted Accuracy: {}\".format(np.sum(Y_test == predictions)/len(Y_test)))"
      ]
    },
    {
      "cell_type": "markdown",
      "metadata": {
        "id": "kv7zpwQ-i8-Z"
      },
      "source": [
        "**Task 4 (45 points):** Pick any 2 optimization algorithms that are used to optimize the ‘vanilla’\n",
        "gradient descent. Implement both. You may implement these algorithms yourself OR use a\n",
        "package. In your conclusion, compare both optimization techniques/algorithms with respect to\n",
        "the results you achieve. Also compare these results with the original implementation of\n",
        "gradient descent (Task 3 above). Describe why we should or why we should not use\n",
        "optimization algorithms for the task at hand. For comparison of these algorithms define an\n",
        "evaluation metric appropriate for your problem."
      ]
    },
    {
      "cell_type": "code",
      "execution_count": 21,
      "metadata": {
        "id": "tNsF-QYvCOhr"
      },
      "outputs": [],
      "source": [
        "# Stochastic Gradient Descent with Momentum\n",
        "def SGD_Momentum(X, Y, epochs, learningRate=0.0001, m=0.9):\n",
        "    \"\"\"\n",
        "    Trains a logistic regression model using SGD with momentum.\n",
        "\n",
        "    Args:\n",
        "        X (numpy.ndarray): Feature matrix of shape (m, n)\n",
        "        Y (numpy.ndarray): Target labels of shape (m, 1)\n",
        "        epochs (int): Number of epochs to train\n",
        "        learningRate (float, optional): Learning rate (default: 0.0001)\n",
        "        m (float, optional): Momentum coefficient (default: 0.9)\n",
        "\n",
        "    Returns:\n",
        "        tuple: (w, b, losses) - Optimized weights, bias, and list of losses\n",
        "    \"\"\"\n",
        "\n",
        "    s = X.shape\n",
        "    w = np.random.rand(s[1], 1)  # weights\n",
        "    b = np.random.randint(-1, 2)  # bias\n",
        "    Y = Y.reshape(s[0], 1)\n",
        "\n",
        "    prev_w, prev_b = np.zeros_like(w), 0  # Initialize momentum vectors\n",
        "    losses = list()\n",
        "\n",
        "    for _ in range(epochs):\n",
        "        for i in range(s[0]):  # Iterate through each training example\n",
        "            xi = X[i, :].reshape(1, -1)  # Reshape for single sample\n",
        "            yi = Y[i, :].reshape(1, -1)\n",
        "\n",
        "            A = sigmoid(np.dot(xi, w) + b)\n",
        "            dw, db = gradients(xi, yi, w, b)  # Calculate gradients\n",
        "\n",
        "            # Update momentum vectors:\n",
        "            prev_w = m * prev_w + learningRate * dw\n",
        "            prev_b = m * prev_b + learningRate * db\n",
        "\n",
        "            # Update parameters:\n",
        "            w -= prev_w\n",
        "            b -= prev_b\n",
        "\n",
        "        # Append loss for the epoch (after all updates):\n",
        "        losses.append(cost_function(X, Y, w, b))\n",
        "\n",
        "    return w, b, losses\n"
      ]
    },
    {
      "cell_type": "code",
      "execution_count": 22,
      "metadata": {
        "id": "KcIQ2JjsP2Ay"
      },
      "outputs": [],
      "source": [
        "# Stochastic Gradient Descent with Adadelta\n",
        "def SGD_Adadelta(X, Y, epochs, rho=0.95, epsilon=1e-6):\n",
        "    \"\"\"\n",
        "    Trains a logistic regression model using Adadelta.\n",
        "\n",
        "    Args:\n",
        "        X (numpy.ndarray): Feature matrix of shape (m, n)\n",
        "        Y (numpy.ndarray): Target labels of shape (m, 1)\n",
        "        epochs (int): Number of epochs to train\n",
        "        rho (float, optional): Decay rate for squared gradients (default: 0.95)\n",
        "        epsilon (float, optional): Small constant for numerical stability (default: 1e-6)\n",
        "\n",
        "    Returns:\n",
        "        tuple: (w, b, losses) - Optimized weights, bias, and list of losses\n",
        "    \"\"\"\n",
        "\n",
        "    s = X.shape\n",
        "    w = np.random.rand(s[1], 1)  # weights\n",
        "    b = np.random.randint(-1, 2)  # bias\n",
        "    Y = Y.reshape(s[0], 1)\n",
        "\n",
        "    sdw = np.zeros_like(w)  # Accumulated squared gradients\n",
        "    sdb = 0  # Accumulated squared bias gradients\n",
        "    deltaw = np.zeros_like(w)  # Running average of delta weights\n",
        "    deltab = 0  # Running average of delta bias\n",
        "\n",
        "    losses = []\n",
        "    for _ in range(epochs):\n",
        "        for i in range(s[0]):  # Iterate through each training example\n",
        "            xi = X[i, :].reshape(1, -1)  # Reshape for single sample\n",
        "            yi = Y[i, :].reshape(1, -1)\n",
        "\n",
        "            A = sigmoid(np.dot(xi, w) + b)\n",
        "            dw, db = gradients(xi, yi, w, b)  # Calculate gradients\n",
        "\n",
        "            # Accumulate squared gradients:\n",
        "            sdw = rho * sdw + (1 - rho) * dw**2\n",
        "            sdb = rho * sdb + (1 - rho) * db**2\n",
        "\n",
        "            # Calculate delta weights and bias:\n",
        "            deltaw = -np.sqrt(deltaw + epsilon) / np.sqrt(sdw + epsilon) * dw\n",
        "            deltab = -np.sqrt(deltab + epsilon) / np.sqrt(sdb + epsilon) * db\n",
        "\n",
        "            # Update parameters:\n",
        "            w += deltaw\n",
        "            b += deltab\n",
        "\n",
        "        # Append loss for the epoch (after all updates):\n",
        "        losses.append(cost_function(X, Y, w, b))\n",
        "\n",
        "    return w, b, losses"
      ]
    },
    {
      "cell_type": "code",
      "execution_count": 23,
      "metadata": {
        "colab": {
          "base_uri": "https://localhost:8080/"
        },
        "id": "zDt1e2jU98ad",
        "outputId": "e3293d45-7009-44f7-dcf4-32c55627a8ea"
      },
      "outputs": [
        {
          "name": "stderr",
          "output_type": "stream",
          "text": [
            "/home/avilez/.conda/envs/avilez-py36/lib/python3.6/site-packages/ipykernel_launcher.py:5: RuntimeWarning: overflow encountered in exp\n",
            "  \"\"\"\n",
            "/home/avilez/.conda/envs/avilez-py36/lib/python3.6/site-packages/ipykernel_launcher.py:12: RuntimeWarning: divide by zero encountered in log\n",
            "  if sys.path[0] == '':\n",
            "/home/avilez/.conda/envs/avilez-py36/lib/python3.6/site-packages/ipykernel_launcher.py:12: RuntimeWarning: invalid value encountered in matmul\n",
            "  if sys.path[0] == '':\n"
          ]
        },
        {
          "name": "stdout",
          "output_type": "stream",
          "text": [
            "Imputed Stochastic Descent Accuracy: 0.43548387096774194\n",
            "Deleted Stochastic Gradient Descent Accuracy: 0.3225806451612903\n"
          ]
        }
      ],
      "source": [
        "# Stochastic Gradient Descent\n",
        "\n",
        "# imputed\n",
        "w1, b1, losses1 = LRModel(X1_train, Y1_train, \"sgd\")\n",
        "predictions1 = predict(X1_test, w1, b1)\n",
        "print(\"Imputed Stochastic Descent Accuracy: {}\".format(np.sum(Y1_test == predictions1)/len(Y1_test)))\n",
        "\n",
        "# deleted\n",
        "w, b, losses = LRModel(X_train, Y_train, \"sgd\")\n",
        "predictions = predict(X_test, w, b)\n",
        "print(\"Deleted Stochastic Gradient Descent Accuracy: {}\".format(np.sum(Y_test == predictions)/len(Y_test)))"
      ]
    },
    {
      "cell_type": "code",
      "execution_count": 24,
      "metadata": {
        "colab": {
          "base_uri": "https://localhost:8080/"
        },
        "id": "PWbhi4KoQQRN",
        "outputId": "d216b678-34dd-4ea4-bb29-ef19df2e7920"
      },
      "outputs": [
        {
          "name": "stderr",
          "output_type": "stream",
          "text": [
            "/home/avilez/.conda/envs/avilez-py36/lib/python3.6/site-packages/ipykernel_launcher.py:5: RuntimeWarning: overflow encountered in exp\n",
            "  \"\"\"\n",
            "/home/avilez/.conda/envs/avilez-py36/lib/python3.6/site-packages/ipykernel_launcher.py:12: RuntimeWarning: divide by zero encountered in log\n",
            "  if sys.path[0] == '':\n",
            "/home/avilez/.conda/envs/avilez-py36/lib/python3.6/site-packages/ipykernel_launcher.py:12: RuntimeWarning: invalid value encountered in matmul\n",
            "  if sys.path[0] == '':\n"
          ]
        },
        {
          "name": "stdout",
          "output_type": "stream",
          "text": [
            "Imputed SGD Momentum Accuracy: 0.43548387096774194\n",
            "Deleted SGD Momentum Accuracy: 0.3225806451612903\n"
          ]
        }
      ],
      "source": [
        "# Stochastic Gradient Descent with Momentum\n",
        "# Imputed\n",
        "w1, b1, losses1 = SGD_Momentum(X1_train, Y1_train, 1000)\n",
        "predictions1 = predict(X1_test, w1, b1)\n",
        "print(\"Imputed SGD Momentum Accuracy: {}\".format(np.sum(Y1_test == predictions1)/len(Y1_test)))\n",
        "# Deleted\n",
        "w, b, losses = SGD_Momentum(X_train, Y_train, 1000)\n",
        "predictions = predict(X_test, w, b)\n",
        "print(\"Deleted SGD Momentum Accuracy: {}\".format(np.sum(Y_test == predictions)/len(Y_test)))"
      ]
    },
    {
      "cell_type": "code",
      "execution_count": 26,
      "metadata": {
        "colab": {
          "base_uri": "https://localhost:8080/"
        },
        "id": "qcE6Q_sfRkAI",
        "outputId": "5b88ee23-c108-452c-e26a-735d75935a01"
      },
      "outputs": [
        {
          "name": "stderr",
          "output_type": "stream",
          "text": [
            "/home/avilez/.conda/envs/avilez-py36/lib/python3.6/site-packages/ipykernel_launcher.py:41: RuntimeWarning: invalid value encountered in sqrt\n",
            "/home/avilez/.conda/envs/avilez-py36/lib/python3.6/site-packages/ipykernel_launcher.py:42: RuntimeWarning: invalid value encountered in sqrt\n"
          ]
        },
        {
          "name": "stdout",
          "output_type": "stream",
          "text": [
            "Imputed SGD Adadelta Accuracy: 0.5645161290322581\n",
            "Deleted SGD Adadelta Accuracy: 0.6774193548387096\n"
          ]
        }
      ],
      "source": [
        "# Stochastic Gradient Descent with Adadelta\n",
        "# Imputed\n",
        "w1, b1, losses1 = SGD_Adadelta(X1_train, Y1_train, 1000)\n",
        "predictions1 = predict(X1_test, w1, b1)\n",
        "print(\"Imputed SGD Adadelta Accuracy: {}\".format(np.sum(Y1_test == predictions1)/len(Y1_test)))\n",
        "# Deleted\n",
        "w, b, losses = SGD_Adadelta(X_train, Y_train, 1000)\n",
        "predictions = predict(X_test, w, b)\n",
        "print(\"Deleted SGD Adadelta Accuracy: {}\".format(np.sum(Y_test == predictions)/len(Y_test)))"
      ]
    },
    {
      "cell_type": "markdown",
      "metadata": {
        "id": "sf4HCgmPTA4U"
      },
      "source": [
        "**Analysis**\n",
        "\n",
        "The two optimization algorithms chosen to improve the regular gradient descent algorithm were Stochastic Gradient Descent with Momentum and Stochastic Gradient Descent with Adadelta. The optimized versions scored a higher accuracy and stayed mmore consistend, not varying in its value. However, a notable statistic was that the Deleted SGD Momentum Accuracy consistently matched the original SGD implementation Deleted SGD Accuracy. Interestingly the Imputed SGD Momentum had higher accuracy (0.5967) than the Deleted SGD Momentum accuracy (0.3225), but the Deleted SGD Adadelta had higher accuracy (0.6774) than the Imputed SGD Adadelta accuracy (0.5645).\n",
        "\n",
        "**Evaluation Metric:**\n",
        "\n",
        "* Accuracy: While accuracy is a common metric, consider using F1-score for imbalanced classes or precision/recall for specific evaluation needs.\n",
        "* Cross-Validation: Employ cross-validation to assess generalization performance and reduce overfitting risk.\n",
        "\n",
        "**Decision to Use Optimization Algorithms:**\n",
        "\n",
        "* Pros:\n",
        " * Faster convergence and potentially better accuracy\n",
        " * More adaptable to varying learning rates\n",
        " * Potential for handling complex loss landscapes\n",
        "* Cons:\n",
        "\n",
        " * Added complexity in implementation and hyperparameter tuning\n",
        " * May not always yield significant improvements"
      ]
    }
  ],
  "metadata": {
    "colab": {
      "authorship_tag": "ABX9TyNLBJ8UNFtlQAqjJ8nW/nyW",
      "include_colab_link": true,
      "provenance": []
    },
    "kernelspec": {
      "display_name": "python36",
      "language": "python",
      "name": "python36"
    },
    "language_info": {
      "codemirror_mode": {
        "name": "ipython",
        "version": 3
      },
      "file_extension": ".py",
      "mimetype": "text/x-python",
      "name": "python",
      "nbconvert_exporter": "python",
      "pygments_lexer": "ipython3",
      "version": "3.6.13"
    }
  },
  "nbformat": 4,
  "nbformat_minor": 0
}
